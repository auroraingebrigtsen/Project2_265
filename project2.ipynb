{
 "cells": [
  {
   "cell_type": "code",
   "execution_count": null,
   "metadata": {},
   "outputs": [],
   "source": [
    "import torch\n",
    "import torch.nn as nn\n",
    "from torchvision import transforms\n",
    "import torch.optim as optim\n",
    "import matplotlib.pyplot as plt\n",
    "from torchvision.utils import draw_bounding_boxes\n",
    "from torchvision.ops import box_convert\n",
    "from torch.utils.data import TensorDataset\n",
    "\n",
    "\n",
    "from project_functions import *\n",
    "from project_objects import *\n",
    "from project_models import *\n",
    "from project_constants import DEVICE as device\n",
    "from project_constants import SEED"
   ]
  },
  {
   "cell_type": "code",
   "execution_count": null,
   "metadata": {},
   "outputs": [],
   "source": [
    "torch.manual_seed(SEED)\n",
    "torch.set_default_dtype(torch.double)"
   ]
  },
  {
   "cell_type": "markdown",
   "metadata": {},
   "source": [
    "## 2 Object Localization\n",
    "#### First we load and inspect the localization datasets"
   ]
  },
  {
   "cell_type": "code",
   "execution_count": null,
   "metadata": {},
   "outputs": [],
   "source": [
    "loc_train = torch.load('data/localization_train.pt')\n",
    "loc_val = torch.load('data/localization_val.pt')\n",
    "loc_test = torch.load('data/localization_test.pt')"
   ]
  },
  {
   "cell_type": "code",
   "execution_count": null,
   "metadata": {},
   "outputs": [],
   "source": [
    "print(f'Train data size: {len(loc_train)}')\n",
    "print(f'Val data size: {len(loc_val)}')\n",
    "print(f'Test data size: {len(loc_test)}')"
   ]
  },
  {
   "cell_type": "code",
   "execution_count": null,
   "metadata": {},
   "outputs": [],
   "source": [
    "first_img, first_label = loc_train[0]\n",
    "\n",
    "print(f'Shape of first image: {first_img.shape}')\n",
    "print(f'Type of first image: {type(first_img)}')\n",
    "\n",
    "print(f'\\nShape of first label: {first_label.shape}')\n",
    "print(f'Type of first label: {type(first_label)})')\n",
    "first_label"
   ]
  },
  {
   "cell_type": "code",
   "execution_count": null,
   "metadata": {},
   "outputs": [],
   "source": [
    "count_instances(loc_train, 'Training Data')\n",
    "count_instances(loc_val, 'Validation Data')\n",
    "count_instances(loc_test, 'Test Data')"
   ]
  },
  {
   "cell_type": "markdown",
   "metadata": {},
   "source": [
    "#### Plotting one image from each class"
   ]
  },
  {
   "cell_type": "code",
   "execution_count": null,
   "metadata": {},
   "outputs": [],
   "source": [
    "plot_localization_data(loc_train)"
   ]
  },
  {
   "cell_type": "code",
   "execution_count": null,
   "metadata": {},
   "outputs": [],
   "source": [
    "plot_localization_data(loc_train, class_label=3, start_idx=10)"
   ]
  },
  {
   "cell_type": "markdown",
   "metadata": {},
   "source": [
    "#### Defining a normalizer and a preprocessor"
   ]
  },
  {
   "cell_type": "code",
   "execution_count": null,
   "metadata": {},
   "outputs": [],
   "source": [
    "loc_train_norm, loc_val_norm, loc_test_norm = normalizer(loc_train, loc_val, loc_test)"
   ]
  },
  {
   "cell_type": "markdown",
   "metadata": {},
   "source": [
    "#### Defining models"
   ]
  },
  {
   "cell_type": "code",
   "execution_count": null,
   "metadata": {},
   "outputs": [],
   "source": [
    "n_epochs = 20\n",
    "batch_size = 64\n",
    "lr = 0.01\n",
    "momentum = 0.9\n",
    "decay= 0.001"
   ]
  },
  {
   "cell_type": "code",
   "execution_count": null,
   "metadata": {},
   "outputs": [],
   "source": [
    "train_loader = torch.utils.data.DataLoader(loc_train_norm, batch_size=batch_size, shuffle=False)\n",
    "val_loader = torch.utils.data.DataLoader(loc_val_norm, batch_size=batch_size, shuffle=False)\n",
    "test_loader = torch.utils.data.DataLoader(loc_test_norm, batch_size=batch_size, shuffle=False)\n",
    "\n",
    "loss_fn = LocalizationLoss()"
   ]
  },
  {
   "cell_type": "code",
   "execution_count": null,
   "metadata": {},
   "outputs": [],
   "source": [
    "model_name = 'model1'\n",
    "\n",
    "torch.manual_seed(SEED)\n",
    "model1 = LocCNN1((48,60,1))\n",
    "model1.to(device=device, dtype=torch.double)\n",
    "optimizer = optim.SGD(model1.parameters(), lr=lr, momentum=momentum, weight_decay=decay)\n",
    "\n",
    "loss_train1, loss_val1, train_perform1, val_perform1, losses_separated1 = train(\n",
    "    n_epochs=n_epochs,\n",
    "    optimizer=optimizer,\n",
    "    model=model1,\n",
    "    loss_fn=loss_fn,\n",
    "    train_loader=train_loader,\n",
    "    val_loader=val_loader,\n",
    "    performance_calculator=localization_performance\n",
    ")\n",
    "\n",
    "plot_loss(loss_train1, loss_val1, model_name, save_model=False)\n",
    "plot_lists(losses_separated1, ['detection loss', 'localization loss', 'classification loss'], model_name, save_model=False)\n",
    "y_true, y_pred = predict(model1, val_loader)"
   ]
  },
  {
   "cell_type": "code",
   "execution_count": null,
   "metadata": {},
   "outputs": [],
   "source": [
    "model_name = 'model2'\n",
    "\n",
    "torch.manual_seed(SEED)\n",
    "model2 = LocCNN2((48,60,1))\n",
    "model2.to(device=device)\n",
    "optimizer = optim.SGD(model2.parameters(), lr=lr, momentum=momentum, weight_decay=decay)\n",
    "\n",
    "loss_train2, loss_val2, train_perform2, val_perform2, losses_separated2 = train(\n",
    "    n_epochs=n_epochs,\n",
    "    optimizer=optimizer,\n",
    "    model=model2,\n",
    "    loss_fn=loss_fn,\n",
    "    train_loader=train_loader,\n",
    "    val_loader=val_loader,\n",
    "    performance_calculator=localization_performance\n",
    ")\n",
    "\n",
    "plot_loss(loss_train2, loss_val2, model_name, save_model=False)\n",
    "plot_lists(losses_separated2, ['detection loss', 'localization loss', 'classification loss'], model_name, save_model=False)\n",
    "y_true, y_pred = predict(model2, val_loader)"
   ]
  },
  {
   "cell_type": "code",
   "execution_count": null,
   "metadata": {},
   "outputs": [],
   "source": [
    "model_name = 'model3'\n",
    "\n",
    "torch.manual_seed(SEED)\n",
    "model3 = LocCNN3((48,60,1))\n",
    "model3.to(device=device)\n",
    "optimizer = optim.SGD(model3.parameters(), lr=lr, momentum=momentum, weight_decay=decay)\n",
    "\n",
    "loss_train3, loss_val3, train_perform3, val_perform3, losses_separated3 = train(\n",
    "    n_epochs=n_epochs,\n",
    "    optimizer=optimizer,\n",
    "    model=model3,\n",
    "    loss_fn=loss_fn,\n",
    "    train_loader=train_loader,\n",
    "    val_loader=val_loader,\n",
    "    performance_calculator=localization_performance\n",
    ")\n",
    "\n",
    "plot_loss(loss_train3, loss_val3, model_name, save_model=False)\n",
    "plot_lists(losses_separated3, ['detection loss', 'localization loss', 'classification loss'], model_name, save_model=False)\n",
    "y_true, y_pred = predict(model3, val_loader)"
   ]
  },
  {
   "cell_type": "code",
   "execution_count": null,
   "metadata": {},
   "outputs": [],
   "source": [
    "# model_name = 'model4'\n",
    "\n",
    "# torch.manual_seed(SEED)\n",
    "# model4 = LocCNN4((48,60,1))\n",
    "# model4.to(device=device)\n",
    "# optimizer = optim.SGD(model4.parameters(), lr=0.01, momentum=0.9, weight_decay=0.001)\n",
    "\n",
    "# loss_train4, loss_val4, train_perform4, val_perform4, losses_separated4 = train(\n",
    "#     n_epochs=n_epochs,\n",
    "#     optimizer=optimizer,\n",
    "#     model=model4,\n",
    "#     loss_fn=loss_fn,\n",
    "#     train_loader=train_loader,\n",
    "#     val_loader=val_loader,\n",
    "#     performance_calculator=localization_performance\n",
    "# )\n",
    "\n",
    "# plot_loss(loss_train4, loss_val4, model_name, save_model=True)\n",
    "# plot_lists(losses_separated4, ['detection loss', 'localization loss', 'classification loss'], model_name, save_model=True)\n",
    "# y_true, y_pred = predict(model4, val_loader)"
   ]
  },
  {
   "cell_type": "code",
   "execution_count": null,
   "metadata": {},
   "outputs": [],
   "source": [
    "model_name = 'model5'\n",
    "\n",
    "torch.manual_seed(SEED)\n",
    "model5 = LocCNN5((48,60,1))\n",
    "model5.to(device=device)\n",
    "optimizer = optim.SGD(model5.parameters(), lr=lr, momentum=momentum, weight_decay=decay)\n",
    "\n",
    "loss_train5, loss_val5, train_perform5, val_perform5, losses_separated5 = train(\n",
    "    n_epochs=n_epochs,\n",
    "    optimizer=optimizer,\n",
    "    model=model5,\n",
    "    loss_fn=loss_fn,\n",
    "    train_loader=train_loader,\n",
    "    val_loader=val_loader,\n",
    "    performance_calculator=localization_performance\n",
    ")\n",
    "\n",
    "plot_loss(loss_train5, loss_val5, model_name, save_model=False)\n",
    "plot_lists(losses_separated5, ['detection loss', 'localization loss', 'classification loss'], model_name, save_model=False)\n",
    "y_true, y_pred = predict(model5, val_loader)"
   ]
  },
  {
   "cell_type": "markdown",
   "metadata": {},
   "source": [
    "#### Model Selection"
   ]
  },
  {
   "cell_type": "code",
   "execution_count": null,
   "metadata": {},
   "outputs": [],
   "source": [
    "best_model, best_performance = model_selector([model1, model2, model3, model5], [val_perform1[-1],val_perform2[-1],val_perform3[-1],val_perform5[-1]])\n",
    "\n",
    "# Print additional details of the best model\n",
    "print(\"Best Model Details\\n--------------------------------------------------------------\")\n",
    "print(f\"Network architecture/ layout: {best_model}\\n\")\n",
    "#print(f\"Optimizer Parameters: {best_data.optimizer}\")\n",
    "print(f\"Validation Performance: {best_performance}\")"
   ]
  },
  {
   "cell_type": "markdown",
   "metadata": {},
   "source": [
    "#### Model Evaluation"
   ]
  },
  {
   "cell_type": "code",
   "execution_count": null,
   "metadata": {},
   "outputs": [],
   "source": [
    "test_performance = localization_performance(best_model, test_loader)\n",
    "print(10*'-'+'Test Performance' + 10*'-')\n",
    "print(f\"Test Accuracy: {test_performance[0]}\\nTest IOU: {test_performance[1]}\\nOverall Performance: {test_performance[2]}\")"
   ]
  },
  {
   "cell_type": "code",
   "execution_count": null,
   "metadata": {},
   "outputs": [],
   "source": [
    "y_true, y_pred = predict(best_model, test_loader)\n",
    "plot_predictions(loc_test, y_true, y_pred, label=3, start_idx=0)"
   ]
  },
  {
   "cell_type": "markdown",
   "metadata": {},
   "source": [
    "# 3 Object Detection"
   ]
  },
  {
   "cell_type": "markdown",
   "metadata": {},
   "source": [
    "#### Loading the data and inspecting the data"
   ]
  },
  {
   "cell_type": "code",
   "execution_count": null,
   "metadata": {},
   "outputs": [],
   "source": [
    "import torch\n",
    "import torch.nn as nn\n",
    "from torchvision import transforms\n",
    "import torch.optim as optim\n",
    "import matplotlib.pyplot as plt\n",
    "from torchvision.utils import draw_bounding_boxes\n",
    "from torchvision.ops import box_convert\n",
    "from torch.utils.data import TensorDataset\n",
    "\n",
    "\n",
    "from project_functions import *\n",
    "from project_objects import *\n",
    "from project_models import *\n",
    "from project_constants import DEVICE as device\n",
    "from project_constants import SEED\n",
    "\n",
    "torch.set_default_dtype(torch.double)"
   ]
  },
  {
   "cell_type": "code",
   "execution_count": null,
   "metadata": {},
   "outputs": [],
   "source": [
    "train_labels = torch.load('data/list_y_true_train.pt')\n",
    "val_labels = torch.load('data/list_y_true_val.pt')\n",
    "test_labels = torch.load('data/list_y_true_test.pt')"
   ]
  },
  {
   "cell_type": "code",
   "execution_count": null,
   "metadata": {},
   "outputs": [],
   "source": [
    "print(f'Train label size: {len(train_labels)}')\n",
    "print(f'Val label size: {len(val_labels)}')\n",
    "print(f'Test label size: {len(test_labels)}')"
   ]
  },
  {
   "cell_type": "code",
   "execution_count": null,
   "metadata": {},
   "outputs": [],
   "source": [
    "train_imgs = torch.load('data/detection_train.pt')\n",
    "val_imgs = torch.load('data/detection_val.pt')\n",
    "test_imgs = torch.load('data/detection_test.pt')"
   ]
  },
  {
   "cell_type": "code",
   "execution_count": null,
   "metadata": {},
   "outputs": [],
   "source": [
    "train_labels_local = prepare_labels(train_labels, (2,3,6))\n",
    "val_labels_local = prepare_labels(val_labels, (2,3,6))\n",
    "test_labels_local = prepare_labels(test_labels, (2,3,6))"
   ]
  },
  {
   "cell_type": "code",
   "execution_count": null,
   "metadata": {},
   "outputs": [],
   "source": [
    "det_train = merge_datasets(train_imgs, train_labels_local)\n",
    "det_val = merge_datasets(val_imgs, val_labels_local)\n",
    "det_test = merge_datasets(test_imgs, test_labels_local)"
   ]
  },
  {
   "cell_type": "markdown",
   "metadata": {},
   "source": [
    "#### Plotting some images from the detection dataset"
   ]
  },
  {
   "cell_type": "code",
   "execution_count": null,
   "metadata": {},
   "outputs": [],
   "source": [
    "imgs = [img for img,_ in train_imgs]\n",
    "plot_detection_data(imgs, train_labels, start_idx=10)"
   ]
  },
  {
   "cell_type": "markdown",
   "metadata": {},
   "source": [
    "#### Normalizing the dataset TBD"
   ]
  },
  {
   "cell_type": "code",
   "execution_count": null,
   "metadata": {},
   "outputs": [],
   "source": [
    "det_train_norm, det_val_norm, det_test_norm = normalizer(det_train, det_val, det_test)"
   ]
  },
  {
   "cell_type": "markdown",
   "metadata": {},
   "source": [
    "#### Defining models"
   ]
  },
  {
   "cell_type": "code",
   "execution_count": null,
   "metadata": {},
   "outputs": [],
   "source": [
    "n_epochs = 8\n",
    "batch_size = 64\n",
    "lr = 0.01\n",
    "momentum = 0.9\n",
    "decay= 0.001"
   ]
  },
  {
   "cell_type": "code",
   "execution_count": null,
   "metadata": {},
   "outputs": [],
   "source": [
    "train_loader = torch.utils.data.DataLoader(det_train_norm, batch_size=batch_size, shuffle=False)\n",
    "val_loader = torch.utils.data.DataLoader(det_val_norm, batch_size=batch_size, shuffle=False)\n",
    "test_loader = torch.utils.data.DataLoader(det_test_norm, batch_size=batch_size, shuffle=False)\n",
    "\n",
    "loss_fn = DetectionLoss()"
   ]
  },
  {
   "cell_type": "code",
   "execution_count": null,
   "metadata": {},
   "outputs": [],
   "source": [
    "model_name = 'DetCNN1'\n",
    "torch.manual_seed(SEED)\n",
    "modelcnn1 = DetCNN1()\n",
    "modelcnn1.to(device=device)\n",
    "optimizer = optim.SGD(modelcnn1.parameters(), lr=lr, momentum=momentum, weight_decay=decay)\n",
    "\n",
    "loss_train1, loss_val1, train_performance1, val_performance1, losses_separated1 = train(\n",
    "    n_epochs=n_epochs,\n",
    "    optimizer=optimizer,\n",
    "    model=modelcnn1,\n",
    "    loss_fn=loss_fn,\n",
    "    train_loader=train_loader,\n",
    "    val_loader=val_loader,\n",
    "    performance_calculator=detection_performance\n",
    ")\n",
    "\n",
    "plot_loss(loss_train1, loss_val1, model_name, save_model=False)\n",
    "plot_lists(losses_separated1, ['detection loss', 'localization loss', 'classification loss'], model_name, save_model=False)"
   ]
  },
  {
   "cell_type": "code",
   "execution_count": null,
   "metadata": {},
   "outputs": [],
   "source": [
    "model_name = 'DetCNN2'\n",
    "torch.manual_seed(SEED)\n",
    "modelcnn2 = DetCNN2()\n",
    "modelcnn2.to(device=device)\n",
    "optimizer = optim.SGD(modelcnn2.parameters(), lr=lr, momentum=momentum, weight_decay=decay)\n",
    "\n",
    "loss_train2, loss_val2, train_performance2, val_performance2, losses_separated2 = train(\n",
    "    n_epochs=n_epochs,\n",
    "    optimizer=optimizer,\n",
    "    model=modelcnn2,\n",
    "    loss_fn=loss_fn,\n",
    "    train_loader=train_loader,\n",
    "    val_loader=val_loader,\n",
    "    performance_calculator=detection_performance\n",
    ")\n",
    "\n",
    "plot_loss(loss_train2, loss_val2, model_name, save_model=False)\n",
    "plot_lists(losses_separated2, ['detection loss', 'localization loss', 'classification loss'], model_name, save_model=False)"
   ]
  },
  {
   "cell_type": "code",
   "execution_count": null,
   "metadata": {},
   "outputs": [],
   "source": [
    "y_true, y_pred = predict(model, val_loader, binary_class=True)\n",
    "imgs = [img for img,_ in val_imgs]\n",
    "y_pred_reshaped = y_pred.permute(0,2,3,1)\n",
    "y_pred_global = local_to_global_list(y_pred_reshaped)\n",
    "plot_detection_data(imgs, val_labels, y_pred_global, start_idx=10)"
   ]
  },
  {
   "cell_type": "markdown",
   "metadata": {},
   "source": [
    "#### Model Selection"
   ]
  },
  {
   "cell_type": "code",
   "execution_count": null,
   "metadata": {},
   "outputs": [],
   "source": [
    "best_model, best_performance = model_selector([model], [val_performance[-1]])\n",
    "\n",
    "# Print additional details of the best model\n",
    "print(\"Best Model Details\\n--------------------------------------------------------------\")\n",
    "print(f\"Network architecture/ layout: {best_model}\\n\")\n",
    "#print(f\"Optimizer Parameters: {best_data.optimizer\")\n",
    "print(f\"Validation Performance: {best_performance}\")\n",
    "#print(f\"Validation Accuracy {round(best_data['model_man_val_accuracy'], 2)}\")"
   ]
  },
  {
   "cell_type": "markdown",
   "metadata": {},
   "source": [
    "#### Model Evaluation"
   ]
  },
  {
   "cell_type": "code",
   "execution_count": null,
   "metadata": {},
   "outputs": [],
   "source": [
    "\n",
    "\n",
    "test_performance = detection_performance(best_model, test_loader)\n",
    "print(10*'-'+'Test Performance' + 10*'-')\n",
    "print(f\"Average Precision: {test_performance[-1]}\")"
   ]
  },
  {
   "cell_type": "code",
   "execution_count": null,
   "metadata": {},
   "outputs": [],
   "source": [
    "y_true, y_pred = predict(best_model, test_loader)\n",
    "plot_predictions(loc_test, y_true, y_pred, label=3, start_idx=0)"
   ]
  }
 ],
 "metadata": {
  "kernelspec": {
   "display_name": "INF265",
   "language": "python",
   "name": "python3"
  },
  "language_info": {
   "codemirror_mode": {
    "name": "ipython",
    "version": 3
   },
   "file_extension": ".py",
   "mimetype": "text/x-python",
   "name": "python",
   "nbconvert_exporter": "python",
   "pygments_lexer": "ipython3",
   "version": "3.10.13"
  }
 },
 "nbformat": 4,
 "nbformat_minor": 2
}
