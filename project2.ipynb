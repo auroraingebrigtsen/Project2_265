{
 "cells": [
  {
   "cell_type": "code",
   "execution_count": null,
   "metadata": {},
   "outputs": [],
   "source": [
    "import torch\n",
    "import torch.nn as nn\n",
    "from torchvision import transforms\n",
    "import torch.optim as optim\n",
    "import matplotlib.pyplot as plt\n",
    "from torchvision.utils import draw_bounding_boxes\n",
    "from torchvision.ops import box_convert\n",
    "from torch.utils.data import TensorDataset\n",
    "\n",
    "\n",
    "from project_functions import *\n",
    "from project_objects import *\n",
    "from project_models import *\n",
    "from project_constants import DEVICE as device\n",
    "from project_constants import SEED"
   ]
  },
  {
   "cell_type": "code",
   "execution_count": null,
   "metadata": {},
   "outputs": [],
   "source": [
    "torch.manual_seed(SEED)\n",
    "torch.set_default_dtype(torch.double)"
   ]
  },
  {
   "cell_type": "markdown",
   "metadata": {},
   "source": [
    "## 2 Object Localization\n",
    "#### First we load and inspect the localization datasets"
   ]
  },
  {
   "cell_type": "code",
   "execution_count": null,
   "metadata": {},
   "outputs": [],
   "source": [
    "loc_train = torch.load('data/localization_train.pt')\n",
    "loc_val = torch.load('data/localization_val.pt')\n",
    "loc_test = torch.load('data/localization_test.pt')"
   ]
  },
  {
   "cell_type": "code",
   "execution_count": null,
   "metadata": {},
   "outputs": [],
   "source": [
    "print(f'Train data size: {len(loc_train)}')\n",
    "print(f'Val data size: {len(loc_val)}')\n",
    "print(f'Test data size: {len(loc_test)}')"
   ]
  },
  {
   "cell_type": "code",
   "execution_count": null,
   "metadata": {},
   "outputs": [],
   "source": [
    "first_img, first_label = loc_train[0]\n",
    "\n",
    "print(f'Shape of first image: {first_img.shape}')\n",
    "print(f'Type of first image: {type(first_img)}')\n",
    "\n",
    "print(f'\\nShape of first label: {first_label.shape}')\n",
    "print(f'Type of first label: {type(first_label)})')\n",
    "first_label"
   ]
  },
  {
   "cell_type": "code",
   "execution_count": null,
   "metadata": {},
   "outputs": [],
   "source": [
    "# Assuming train_data, val_data, and test_data are defined elsewhere\n",
    "count_instances(loc_train, 'Training Data')\n",
    "count_instances(loc_val, 'Validation Data')\n",
    "count_instances(loc_test, 'Test Data')\n"
   ]
  },
  {
   "cell_type": "markdown",
   "metadata": {},
   "source": [
    "#### Plotting one image from each class"
   ]
  },
  {
   "cell_type": "code",
   "execution_count": null,
   "metadata": {},
   "outputs": [],
   "source": [
    "plot_images(loc_train)"
   ]
  },
  {
   "cell_type": "code",
   "execution_count": null,
   "metadata": {},
   "outputs": [],
   "source": [
    "plot_class(loc_train, 4, 0)"
   ]
  },
  {
   "cell_type": "markdown",
   "metadata": {},
   "source": [
    "#### Defining a normalizer and a preprocessor"
   ]
  },
  {
   "cell_type": "code",
   "execution_count": null,
   "metadata": {},
   "outputs": [],
   "source": [
    "imgs = torch.stack([img for img, _ in loc_train])\n",
    "\n",
    "# Define normalizer\n",
    "normalizer_pipe = transforms.Normalize(\n",
    "    imgs.mean(dim=(0, 2, 3)), \n",
    "    imgs.std(dim=(0, 2, 3))\n",
    "    )\n",
    "\n",
    "# Define preprocessor including the normalizer\n",
    "preprocessor = transforms.Compose([\n",
    "            normalizer_pipe\n",
    "        ])"
   ]
  },
  {
   "cell_type": "code",
   "execution_count": null,
   "metadata": {},
   "outputs": [],
   "source": [
    "loc_train_norm = [(preprocessor(img), label) for img, label in loc_train]\n",
    "loc_val_norm = [(preprocessor(img), label) for img, label in loc_val]\n",
    "loc_test_norm = [(preprocessor(img), label) for img, label in loc_test]"
   ]
  },
  {
   "cell_type": "code",
   "execution_count": null,
   "metadata": {},
   "outputs": [],
   "source": [
    "train_loader = torch.utils.data.DataLoader(loc_train_norm, batch_size=64, shuffle=False)\n",
    "val_loader = torch.utils.data.DataLoader(loc_val_norm, batch_size=64, shuffle=False)\n",
    "\n",
    "loss_fn = LocalizationLoss()"
   ]
  },
  {
   "cell_type": "markdown",
   "metadata": {},
   "source": [
    "#### Defining models"
   ]
  },
  {
   "cell_type": "code",
   "execution_count": null,
   "metadata": {},
   "outputs": [],
   "source": [
    "model_name = 'model5test2'\n",
    "\n",
    "torch.manual_seed(SEED)\n",
    "model = MyCNN5((48,60,1))\n",
    "model.to(device=device)\n",
    "optimizer = optim.SGD(model.parameters(), lr=0.01, momentum=0.9, weight_decay=0.001)\n",
    "\n",
    "loss_train, loss_val, train_perform, val_perform, losses_separated = train(\n",
    "    n_epochs=50,\n",
    "    optimizer=optimizer,\n",
    "    model=model,\n",
    "    loss_fn=loss_fn,\n",
    "    train_loader=train_loader,\n",
    "    val_loader=val_loader\n",
    ")\n",
    "\n",
    "plot_loss(loss_train, loss_val, model_name, save_model=True)\n",
    "plot_lists(losses_separated, ['detection loss', 'localization loss', 'classification loss'], model_name, save_model=True)\n",
    "y_true, y_pred = predict(model, val_loader)\n",
    "plot_predictions(loc_val, y_true, y_pred, label=4, start_idx=0, fig_name=model_name, save_model=True)"
   ]
  },
  {
   "cell_type": "markdown",
   "metadata": {},
   "source": [
    "#### Selecting the best model"
   ]
  },
  {
   "cell_type": "code",
   "execution_count": null,
   "metadata": {},
   "outputs": [],
   "source": [
    "best_model, best_performance = model_selector([model], [val_perform])\n",
    "\n",
    "# Print additional details of the best model\n",
    "print(\"Best Model Details\\n--------------------------------------------------------------\")\n",
    "print(f\"Network architecture/ layout: {best_model}\\n\")\n",
    "#print(f\"Optimizer Parameters: {best_data.optimizer\")\n",
    "print(f\"Validation Performance: {best_performance}\")\n",
    "#print(f\"Validation Accuracy {round(best_data['model_man_val_accuracy'], 2)}\")"
   ]
  },
  {
   "cell_type": "markdown",
   "metadata": {},
   "source": [
    "#### Evaluating the best model on unseen data TBD"
   ]
  },
  {
   "cell_type": "code",
   "execution_count": null,
   "metadata": {},
   "outputs": [],
   "source": [
    "test_loader = torch.utils.data.DataLoader(loc_test_norm, batch_size=64, shuffle=False)\n",
    "\n",
    "test_acc, test_iou, test_performance = compute_performance(best_model, test_loader)\n",
    "print(10*'-'+'Test Performance' + 10*'-')\n",
    "print(f\"Test Accuracy: {test_acc}\\nTest IOU: {test_iou}\\nOverall Performance: {test_performance}\")"
   ]
  },
  {
   "cell_type": "code",
   "execution_count": null,
   "metadata": {},
   "outputs": [],
   "source": [
    "y_true, y_pred = predict(best_model, test_loader)"
   ]
  },
  {
   "cell_type": "code",
   "execution_count": null,
   "metadata": {},
   "outputs": [],
   "source": [
    "plot_predictions(loc_test, y_true, y_pred, label=6, start_idx=0)"
   ]
  },
  {
   "cell_type": "markdown",
   "metadata": {},
   "source": [
    "# 3 Object Detection"
   ]
  },
  {
   "cell_type": "markdown",
   "metadata": {},
   "source": [
    "#### Loading the data and inspecting the data"
   ]
  },
  {
   "cell_type": "code",
   "execution_count": null,
   "metadata": {},
   "outputs": [],
   "source": [
    "train_labels = torch.load('data/list_y_true_train.pt')\n",
    "val_labels = torch.load('data/list_y_true_val.pt')\n",
    "test_labels = torch.load('data/list_y_true_test.pt')"
   ]
  },
  {
   "cell_type": "code",
   "execution_count": null,
   "metadata": {},
   "outputs": [],
   "source": [
    "print(f'Train label size: {len(train_labels)}')\n",
    "print(f'Val label size: {len(val_labels)}')\n",
    "print(f'Test label size: {len(test_labels)}')"
   ]
  },
  {
   "cell_type": "code",
   "execution_count": null,
   "metadata": {},
   "outputs": [],
   "source": [
    "det_train = torch.load('data/detection_train.pt')\n",
    "det_val = torch.load('data/detection_val.pt')\n",
    "det_test = torch.load('data/detection_test.pt')"
   ]
  },
  {
   "cell_type": "code",
   "execution_count": null,
   "metadata": {},
   "outputs": [],
   "source": [
    "print(f'Train label size: {len(det_train)}')\n",
    "print(f'Val label size: {len(det_val)}')\n",
    "print(f'Test label size: {len(det_test)}')"
   ]
  },
  {
   "cell_type": "code",
   "execution_count": null,
   "metadata": {},
   "outputs": [],
   "source": [
    "H_OUT = 2\n",
    "W_OUT = 3"
   ]
  },
  {
   "cell_type": "code",
   "execution_count": null,
   "metadata": {},
   "outputs": [],
   "source": [
    "def global_to_local(labels_list:list, grid_dimension:tuple):\n",
    "    '''\n",
    "    Transfers one list of tensors to local values\n",
    "    '''\n",
    "   \n",
    "    x = grid_dimension[1]\n",
    "    y = grid_dimension[0]\n",
    "    vector_length = grid_dimension[2]\n",
    "\n",
    "    local_tensor = torch.zeros(y,x,vector_length)\n",
    "    \n",
    "    x_grid_cells = [(i+1)/x for i in range(x)]\n",
    "    y_grid_cells = [(i+1)/y for i in range(y)]\n",
    "\n",
    "    for label in labels_list:\n",
    "        label = label.clone()\n",
    "        x_cell = next(i for i, cell in enumerate(x_grid_cells) if label[1] < cell)\n",
    "        y_cell = next(i for i, cell in enumerate(y_grid_cells) if label[2] < cell)\n",
    "\n",
    "        if x_cell != 0:\n",
    "            label[1] -= x_grid_cells[x_cell - 1]\n",
    "        if y_cell != 0:\n",
    "            label[2] -= y_grid_cells[y_cell - 1]\n",
    "\n",
    "        label[1] *= x\n",
    "        label[3] *= x\n",
    "        label[2] *= y\n",
    "        label[4] *= y\n",
    "\n",
    "        local_tensor[y_cell][x_cell] = label\n",
    "\n",
    "    return local_tensor\n",
    "\n",
    "def prepare_labels(label_dataset:list, grid_dimension:tuple):\n",
    "    '''\n",
    "    Iterates through each listed tensor, transforms from global to local coordinates, and stacks them into a new tensor.\n",
    "    '''\n",
    "\n",
    "    new_tensor = torch.stack([global_to_local(label, grid_dimension) for label in label_dataset])\n",
    "    new_tensor = new_tensor.permute(0, 3, 1, 2) \n",
    "\n",
    "    return new_tensor\n",
    "\n",
    "def merge_datasets(d1, d2):\n",
    "    '''\n",
    "    Combines the new labels with the image data.\n",
    "    '''\n",
    "\n",
    "    return TensorDataset(d2[:][0],d1[:])\n",
    "\n",
    "def local_to_global(labels_tensor:torch.Tensor, grid_dimension:tuple):\n",
    "    '''\n",
    "    Returns to original format.\n",
    "    '''\n",
    "\n",
    "    list_of_tensors = []\n",
    "\n",
    "\n",
    "    for i in range(len(labels_tensor)):\n",
    "        inner =[]\n",
    "        x = labels_tensor[i,:,:]\n",
    "        not_all_zero = x.any(dim=-1)\n",
    "        for each in x[not_all_zero]:\n",
    "            inner.append(each)\n",
    "        if inner != []:\n",
    "            list_of_tensors.append(inner)\n",
    "\n",
    "    return list_of_tensors"
   ]
  },
  {
   "cell_type": "code",
   "execution_count": null,
   "metadata": {},
   "outputs": [],
   "source": [
    "det_train[0][1]"
   ]
  },
  {
   "cell_type": "code",
   "execution_count": null,
   "metadata": {},
   "outputs": [],
   "source": [
    "train_labels_local = prepare_labels(train_labels, (2,3,6))\n",
    "train_labels_local"
   ]
  },
  {
   "cell_type": "code",
   "execution_count": null,
   "metadata": {},
   "outputs": [],
   "source": [
    "det_train_manual = merge_datasets(train_labels_local, det_train)\n",
    "det_train_manual"
   ]
  },
  {
   "cell_type": "code",
   "execution_count": null,
   "metadata": {},
   "outputs": [],
   "source": [
    "train_labels_local.shape # vi må fikse dette"
   ]
  },
  {
   "cell_type": "code",
   "execution_count": null,
   "metadata": {},
   "outputs": [],
   "source": [
    "train_loader1 = torch.utils.data.DataLoader(det_train_manual, batch_size=64, shuffle=False)"
   ]
  },
  {
   "cell_type": "code",
   "execution_count": null,
   "metadata": {},
   "outputs": [],
   "source": [
    "train_loader2 = torch.utils.data.DataLoader(det_train, batch_size=64, shuffle=False)"
   ]
  },
  {
   "cell_type": "code",
   "execution_count": null,
   "metadata": {},
   "outputs": [],
   "source": [
    "def are_dataloaders_equal(dataloader1, dataloader2):\n",
    "    list1 = []\n",
    "    list2 = []\n",
    "    \n",
    "    for batch1, batch2 in zip(dataloader1, dataloader2):\n",
    "        list1.extend(batch1)\n",
    "        list2.extend(batch2)\n",
    "    \n",
    "    return all(torch.equal(data1, data2) for data1, data2 in zip(list1, list2))\n",
    "\n",
    "are_dataloaders_equal(train_loader1, train_loader2)"
   ]
  },
  {
   "cell_type": "code",
   "execution_count": null,
   "metadata": {},
   "outputs": [],
   "source": [
    "for i in train_labels[0]:\n",
    "    print(i[1:5])"
   ]
  },
  {
   "cell_type": "markdown",
   "metadata": {},
   "source": [
    "#### Plotting some images from the detection dataset"
   ]
  },
  {
   "cell_type": "code",
   "execution_count": null,
   "metadata": {},
   "outputs": [],
   "source": [
    "def plot_detection_data(imgs, global_labels, start_idx=0):\n",
    "    \"\"\"Data should be global\"\"\"\n",
    "    _, axes = plt.subplots(nrows=2, ncols=5, figsize=(8,3))\n",
    "\n",
    "    for i, ax in enumerate(axes.flat): \n",
    "        \n",
    "        img, labels = imgs[i+start_idx], global_labels[i+start_idx]\n",
    "        img_height, img_width = img.shape[-2], img.shape[-1]\n",
    "        img = img.clone()\n",
    "        img = (img * 255).byte()\n",
    "        labels = [labels] if not isinstance(labels, list) else labels\n",
    "        label_classes = ''\n",
    "        \n",
    "        for label in labels:\n",
    "            label_classes += f'{int(label[-1])}  '\n",
    "            bbox = label[1:5]\n",
    "            bbox = bbox.clone()\n",
    "            bbox[0] *= img_width\n",
    "            bbox[1] *= img_height\n",
    "            bbox[2] *= img_width\n",
    "            bbox[3] *= img_height\n",
    "\n",
    "            bbox = bbox.type(torch.uint8)\n",
    "\n",
    "            converted_bbox = box_convert(bbox, in_fmt='cxcywh', out_fmt='xyxy')\n",
    "\n",
    "            img = draw_bounding_boxes(img, converted_bbox.unsqueeze(0), colors='lightgreen')\n",
    "\n",
    "        img  = img.numpy().transpose((1, 2, 0))\n",
    "        ax.imshow(img, cmap='gray')\n",
    "        ax.set_title(label_classes)\n",
    "        ax.axis('off')\n",
    "        plt.suptitle(f'Image {start_idx} - {start_idx+9}')\n",
    "\n",
    "imgs = [img for img,_ in det_train]\n",
    "plot_detection_data(imgs, train_labels, start_idx=10)"
   ]
  },
  {
   "cell_type": "markdown",
   "metadata": {},
   "source": [
    "#### Normalizing the dataset TBD"
   ]
  },
  {
   "cell_type": "markdown",
   "metadata": {},
   "source": [
    "#### Defining the loss function"
   ]
  },
  {
   "cell_type": "code",
   "execution_count": null,
   "metadata": {},
   "outputs": [],
   "source": [
    "class DetectionLoss(nn.Module):\n",
    "    \"\"\"Custom loss function\"\"\"\n",
    "    def __init__(self):\n",
    "        super().__init__()\n",
    "        self.Localization_loss = LocalizationLoss()\n",
    "        self.loss_tuples = None # fordi treningsloss forventer denne, kan bare endre så den er optional\n",
    "\n",
    "    def forward(self, y_pred, y_true):\n",
    "        print(y_pred.shape)\n",
    "        print(y_true.shape)\n",
    "        h, w = y_pred.shape[0], y_pred.shape[1]\n",
    "        loss = 0\n",
    "        for i in range(h):\n",
    "            for j in range(w):\n",
    "                loss += self.Localization_loss(y_pred[i][j], y_true[i][j])\n",
    "        \n",
    "        return loss, self.loss_tuples"
   ]
  },
  {
   "cell_type": "code",
   "execution_count": null,
   "metadata": {},
   "outputs": [],
   "source": [
    "train_loader = torch.utils.data.DataLoader(det_train_manual, batch_size=64, shuffle=False)\n",
    "val_loader = torch.utils.data.DataLoader(det_val, batch_size=64, shuffle=False)\n",
    "\n",
    "loss_fn2 = DetectionLoss()"
   ]
  },
  {
   "cell_type": "code",
   "execution_count": null,
   "metadata": {},
   "outputs": [],
   "source": [
    "class TestCNN2(nn.Module):\n",
    "    def __init__(self, input_size=None):\n",
    "        self.input_size = input_size\n",
    "        \n",
    "        super().__init__()\n",
    "        self.conv1 = nn.Conv2d(in_channels=1, out_channels=16, kernel_size=3, stride=1, padding=1, device=device, dtype=torch.double)\n",
    "        self.pool1 = nn.MaxPool2d(kernel_size=2)\n",
    "        self.conv2 = nn.Conv2d(in_channels=16, out_channels=32, kernel_size=3, stride=1, padding=1, device=device, dtype=torch.double)\n",
    "        self.pool2 = nn.MaxPool2d(kernel_size=2)\n",
    "        self.conv3 = nn.Conv2d(in_channels=32, out_channels=64, kernel_size=(3,3), stride=1, padding=1, device=device, dtype=torch.double)\n",
    "        self.pool3 = nn.MaxPool2d(kernel_size=2)\n",
    "        self.conv4 = nn.Conv2d(in_channels=64, out_channels=128, kernel_size=(3,3), stride=1, padding=1, device=device, dtype=torch.double)\n",
    "        self.pool4 = nn.MaxPool2d(kernel_size=2)\n",
    "        self.conv5 = nn.Conv2d(in_channels=128, out_channels=64, kernel_size=3, stride=1, padding=1, device=device, dtype=torch.double)\n",
    "        self.conv6 = nn.Conv2d(in_channels=64, out_channels=15, kernel_size=3, stride=1, padding=1, device=device, dtype=torch.double)\n",
    "        self.conv6 = nn.Conv2d(in_channels=64, out_channels=6, kernel_size=(4,3), stride=1, padding=1, device=device, dtype=torch.double)\n",
    "\n",
    "    def forward(self, x):\n",
    "        out = F.relu(self.conv1(x))\n",
    "        out = self.pool1(out)\n",
    "        out = F.relu(self.conv2(out))\n",
    "        out = self.pool2(out)\n",
    "        out = F.relu(self.conv3(out))\n",
    "        out = self.pool3(out)\n",
    "        out = F.relu(self.conv4(out))\n",
    "        out = self.pool4(out)\n",
    "        out = F.relu(self.conv5(out))\n",
    "        out = self.conv6(out)\n",
    "        return out"
   ]
  },
  {
   "cell_type": "code",
   "execution_count": null,
   "metadata": {},
   "outputs": [],
   "source": [
    "torch.manual_seed(SEED)\n",
    "model = TestCNN2()\n",
    "model.to(device=device)\n",
    "optimizer = optim.SGD(model.parameters(), lr=0.01, momentum=0.9, weight_decay=0.001)\n",
    "\n",
    "loss_train, loss_val, train_perform, val_perform, losses_separated = train(\n",
    "    n_epochs=2,\n",
    "    optimizer=optimizer,\n",
    "    model=model,\n",
    "    loss_fn=loss_fn2,\n",
    "    train_loader=train_loader,\n",
    "    val_loader=val_loader\n",
    ")\n",
    "\n",
    "plot_loss(loss_train, loss_val, model_name, save_model=True)\n",
    "plot_lists(losses_separated, ['detection loss', 'localization loss', 'classification loss'], model_name, save_model=True)\n",
    "y_true, y_pred = predict(model, val_loader)\n",
    "plot_predictions(loc_val, y_true, y_pred, label=4, start_idx=0, fig_name=model_name, save_model=True)"
   ]
  }
 ],
 "metadata": {
  "kernelspec": {
   "display_name": "INF265",
   "language": "python",
   "name": "python3"
  },
  "language_info": {
   "codemirror_mode": {
    "name": "ipython",
    "version": 3
   },
   "file_extension": ".py",
   "mimetype": "text/x-python",
   "name": "python",
   "nbconvert_exporter": "python",
   "pygments_lexer": "ipython3",
   "version": "3.10.13"
  }
 },
 "nbformat": 4,
 "nbformat_minor": 2
}
