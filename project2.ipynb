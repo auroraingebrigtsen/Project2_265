{
 "cells": [
  {
   "cell_type": "code",
   "execution_count": null,
   "metadata": {},
   "outputs": [],
   "source": [
    "import torch\n",
    "import torch.nn as nn\n",
    "from torchvision import transforms\n",
    "import torch.optim as optim\n",
    "import matplotlib.pyplot as plt\n",
    "from torchvision.utils import draw_bounding_boxes\n",
    "from torchvision.ops import box_convert\n",
    "\n",
    "\n",
    "from project_functions import *\n",
    "from project_objects import *\n",
    "from project_models import *\n",
    "from project_constants import DEVICE as device\n",
    "from project_constants import SEED"
   ]
  },
  {
   "cell_type": "code",
   "execution_count": null,
   "metadata": {},
   "outputs": [],
   "source": [
    "torch.manual_seed(SEED)\n",
    "torch.set_default_dtype(torch.double)"
   ]
  },
  {
   "cell_type": "markdown",
   "metadata": {},
   "source": [
    "## 2 Object Localization\n",
    "#### First we load and inspect the localization datasets"
   ]
  },
  {
   "cell_type": "code",
   "execution_count": null,
   "metadata": {},
   "outputs": [],
   "source": [
    "loc_train = torch.load('data/localization_train.pt')\n",
    "loc_val = torch.load('data/localization_val.pt')\n",
    "loc_test = torch.load('data/localization_test.pt')"
   ]
  },
  {
   "cell_type": "code",
   "execution_count": null,
   "metadata": {},
   "outputs": [],
   "source": [
    "print(f'Train data size: {len(loc_train)}')\n",
    "print(f'Val data size: {len(loc_val)}')\n",
    "print(f'Test data size: {len(loc_test)}')"
   ]
  },
  {
   "cell_type": "code",
   "execution_count": null,
   "metadata": {},
   "outputs": [],
   "source": [
    "first_img, first_label = loc_train[0]\n",
    "\n",
    "print(f'Shape of first image: {first_img.shape}')\n",
    "print(f'Type of first image: {type(first_img)}')\n",
    "\n",
    "print(f'\\nShape of first label: {first_label.shape}')\n",
    "print(f'Type of first label: {type(first_label)})')\n",
    "first_label"
   ]
  },
  {
   "cell_type": "code",
   "execution_count": null,
   "metadata": {},
   "outputs": [],
   "source": [
    "# Assuming train_data, val_data, and test_data are defined elsewhere\n",
    "count_instances(loc_train, 'Training Data')\n",
    "count_instances(loc_val, 'Validation Data')\n",
    "count_instances(loc_test, 'Test Data')\n"
   ]
  },
  {
   "cell_type": "markdown",
   "metadata": {},
   "source": [
    "#### Plotting one image from each class"
   ]
  },
  {
   "cell_type": "code",
   "execution_count": null,
   "metadata": {},
   "outputs": [],
   "source": [
    "plot_images(loc_train)"
   ]
  },
  {
   "cell_type": "code",
   "execution_count": null,
   "metadata": {},
   "outputs": [],
   "source": [
    "plot_class(loc_train, 4, 0)"
   ]
  },
  {
   "cell_type": "markdown",
   "metadata": {},
   "source": [
    "#### Defining a normalizer and a preprocessor"
   ]
  },
  {
   "cell_type": "code",
   "execution_count": null,
   "metadata": {},
   "outputs": [],
   "source": [
    "imgs = torch.stack([img for img, _ in loc_train])\n",
    "\n",
    "# Define normalizer\n",
    "normalizer_pipe = transforms.Normalize(\n",
    "    imgs.mean(dim=(0, 2, 3)), \n",
    "    imgs.std(dim=(0, 2, 3))\n",
    "    )\n",
    "\n",
    "# Define preprocessor including the normalizer\n",
    "preprocessor = transforms.Compose([\n",
    "            normalizer_pipe\n",
    "        ])"
   ]
  },
  {
   "cell_type": "code",
   "execution_count": null,
   "metadata": {},
   "outputs": [],
   "source": [
    "loc_train_norm = [(preprocessor(img), label) for img, label in loc_train]\n",
    "loc_val_norm = [(preprocessor(img), label) for img, label in loc_val]\n",
    "loc_test_norm = [(preprocessor(img), label) for img, label in loc_test]"
   ]
  },
  {
   "cell_type": "code",
   "execution_count": null,
   "metadata": {},
   "outputs": [],
   "source": [
    "train_loader = torch.utils.data.DataLoader(loc_train_norm, batch_size=64, shuffle=False)\n",
    "val_loader = torch.utils.data.DataLoader(loc_val_norm, batch_size=64, shuffle=False)\n",
    "\n",
    "loss_fn = LocalizationLoss()"
   ]
  },
  {
   "cell_type": "markdown",
   "metadata": {},
   "source": [
    "#### Defining models"
   ]
  },
  {
   "cell_type": "code",
   "execution_count": null,
   "metadata": {},
   "outputs": [],
   "source": [
    "model_name = 'model5test2'\n",
    "\n",
    "torch.manual_seed(SEED)\n",
    "model = MyCNN5((48,60,1))\n",
    "model.to(device=device)\n",
    "optimizer = optim.SGD(model.parameters(), lr=0.01, momentum=0.9, weight_decay=0.001)\n",
    "\n",
    "loss_train, loss_val, train_perform, val_perform, losses_separated = train(\n",
    "    n_epochs=50,\n",
    "    optimizer=optimizer,\n",
    "    model=model,\n",
    "    loss_fn=loss_fn,\n",
    "    train_loader=train_loader,\n",
    "    val_loader=val_loader\n",
    ")\n",
    "\n",
    "plot_loss(loss_train, loss_val, model_name, save_model=True)\n",
    "plot_lists(losses_separated, ['detection loss', 'localization loss', 'classification loss'], model_name, save_model=True)\n",
    "y_true, y_pred = predict(model, val_loader)\n",
    "plot_predictions(loc_val, y_true, y_pred, label=4, start_idx=0, fig_name=model_name, save_model=True)"
   ]
  },
  {
   "cell_type": "markdown",
   "metadata": {},
   "source": [
    "#### Selecting the best model"
   ]
  },
  {
   "cell_type": "code",
   "execution_count": null,
   "metadata": {},
   "outputs": [],
   "source": [
    "best_model, best_performance = model_selector([model], [val_perform])\n",
    "\n",
    "# Print additional details of the best model\n",
    "print(\"Best Model Details\\n--------------------------------------------------------------\")\n",
    "print(f\"Network architecture/ layout: {best_model}\\n\")\n",
    "#print(f\"Optimizer Parameters: {best_data.optimizer\")\n",
    "print(f\"Validation Performance: {best_performance}\")\n",
    "#print(f\"Validation Accuracy {round(best_data['model_man_val_accuracy'], 2)}\")"
   ]
  },
  {
   "cell_type": "markdown",
   "metadata": {},
   "source": [
    "#### Evaluating the best model on unseen data TBD"
   ]
  },
  {
   "cell_type": "code",
   "execution_count": null,
   "metadata": {},
   "outputs": [],
   "source": [
    "test_loader = torch.utils.data.DataLoader(loc_test_norm, batch_size=64, shuffle=False)\n",
    "\n",
    "test_acc, test_iou, test_performance = compute_performance(best_model, test_loader)\n",
    "print(10*'-'+'Test Performance' + 10*'-')\n",
    "print(f\"Test Accuracy: {test_acc}\\nTest IOU: {test_iou}\\nOverall Performance: {test_performance}\")"
   ]
  },
  {
   "cell_type": "code",
   "execution_count": null,
   "metadata": {},
   "outputs": [],
   "source": [
    "y_true, y_pred = predict(best_model, test_loader)"
   ]
  },
  {
   "cell_type": "code",
   "execution_count": null,
   "metadata": {},
   "outputs": [],
   "source": [
    "plot_predictions(loc_test, y_true, y_pred, label=6, start_idx=0)"
   ]
  },
  {
   "cell_type": "markdown",
   "metadata": {},
   "source": [
    "# 3 Object Detection"
   ]
  },
  {
   "cell_type": "markdown",
   "metadata": {},
   "source": [
    "#### Loading the data and inspecting the data"
   ]
  },
  {
   "cell_type": "code",
   "execution_count": null,
   "metadata": {},
   "outputs": [],
   "source": [
    "train_labels = torch.load('data/list_y_true_train.pt')\n",
    "val_labels = torch.load('data/list_y_true_val.pt')\n",
    "test_labels = torch.load('data/list_y_true_test.pt')"
   ]
  },
  {
   "cell_type": "code",
   "execution_count": null,
   "metadata": {},
   "outputs": [],
   "source": [
    "print(f'Train label size: {len(train_labels)}')\n",
    "print(f'Val label size: {len(val_labels)}')\n",
    "print(f'Test label size: {len(test_labels)}')"
   ]
  },
  {
   "cell_type": "code",
   "execution_count": null,
   "metadata": {},
   "outputs": [],
   "source": [
    "det_train = torch.load('data/detection_train.pt')\n",
    "det_val = torch.load('data/detection_val.pt')\n",
    "det_test = torch.load('data/detection_test.pt')"
   ]
  },
  {
   "cell_type": "code",
   "execution_count": null,
   "metadata": {},
   "outputs": [],
   "source": [
    "print(f'Train label size: {len(det_train)}')\n",
    "print(f'Val label size: {len(det_val)}')\n",
    "print(f'Test label size: {len(det_test)}')"
   ]
  },
  {
   "cell_type": "code",
   "execution_count": null,
   "metadata": {},
   "outputs": [],
   "source": [
    "def local_to_global(bbox, W_out, H_out, W_img, H_img):\n",
    "    \"\"\"Does things \"\"\"\n",
    "\n",
    "\n",
    "    return bbox\n",
    "\n",
    "    \n",
    "\n",
    "\n",
    "def global_to_local(global_coordinates, H_out, W_out):\n",
    "    \"\"\"Does things \"\"\"\n",
    "    w_boundaries = [i / W_out for i in range(0, W_out)]\n",
    "    w_boundaries = [(idx, boundary) for idx, boundary in enumerate(w_boundaries)]\n",
    "    w_boundaries.reverse()\n",
    "\n",
    "    h_boundaries = [i / H_out for i in range(0, H_out)]\n",
    "    #h_boundaries = [(idx, boundary) for idx, boundary in enumerate(h_boundaries)]\n",
    "    h_boundaries.reverse()\n",
    "\n",
    "    print(w_boundaries, h_boundaries)\n",
    "\n",
    "    x_global, y_global = global_coordinates[0].item(), global_coordinates[1].item()\n",
    "    x_boundary, x_cell = next(((boundary, idx) for idx, boundary in w_boundaries if boundary < y_global))\n",
    "    y_boundary, y_cell = next(((boundary, idx) for idx, boundary in enumerate(h_boundaries) if boundary < x_global))\n",
    "\n",
    "    x_local = abs((x_global - x_boundary) * W_out)\n",
    "    y_local = abs((y_global - y_boundary) * H_out)\n",
    "\n",
    "    return x_local, y_local, (x_cell, y_cell)\n",
    "    \n",
    "global_cord = [0.5, 0.6771, 0.1667, 0.4792]\n",
    "#print(global_to_local(global_cord, 2, 3))"
   ]
  },
  {
   "cell_type": "code",
   "execution_count": null,
   "metadata": {},
   "outputs": [],
   "source": [
    "def plot_detection_data(data, H_out, W_out):\n",
    "    \"\"\"W_out H_out should be shape of grid\"\"\"\n",
    "    _, axes = plt.subplots(nrows=2, ncols=5, figsize=(8,3))\n",
    "\n",
    "    for i, ax in enumerate(axes.flat): \n",
    "        \n",
    "        img, label = data[i]\n",
    "        img_height, img_width = img.shape[-2], img.shape[-1]\n",
    "        img = (img * 255).byte()\n",
    "\n",
    "        for row_idx, row in enumerate(label):\n",
    "            for col_idx, gridcell in enumerate(row):\n",
    "                if int(gridcell[0]) == 1:\n",
    "                    bbox = gridcell[1:5].clone()\n",
    "                    \n",
    "                    cell_width = img_width / W_out\n",
    "                    cell_height = img_height / H_out\n",
    "                    x_boundary = col_idx * cell_width\n",
    "                    y_boundary = row_idx * cell_height\n",
    "                    \n",
    "                    bbox[0] = ((bbox[0] / x_boundary) * W_out) * img_width\n",
    "                    bbox[1] = ((bbox[1] / y_boundary) * H_out) * img_height\n",
    "                    bbox[2] = bbox[2] * img_width\n",
    "                    bbox[3] = bbox[3] * img_height\n",
    "\n",
    "                    bbox = bbox.type(torch.uint8)\n",
    "\n",
    "                    converted_bbox = box_convert(bbox, in_fmt='cxcywh', out_fmt='xyxy')\n",
    "\n",
    "                    img = draw_bounding_boxes(img, converted_bbox.unsqueeze(0), colors='lightgreen')\n",
    "\n",
    "        img  = img.numpy().transpose((1, 2, 0))\n",
    "        ax.imshow(img, cmap='gray')\n",
    "        ax.set_title(i)\n",
    "        ax.axis('off')\n",
    "\n",
    "plot_detection_data(data=det_train, H_out=2, W_out=3)"
   ]
  },
  {
   "cell_type": "code",
   "execution_count": null,
   "metadata": {},
   "outputs": [],
   "source": [
    "def prepare_labels(y_true, H_out, W_out):\n",
    "    \"\"\"\n",
    "    1. Create empty tensor in right format\n",
    "    2. Change to local coordinates\n",
    "    3. Which grid cell does each object belong to?\n",
    "    4. Place in correct cell\n",
    "    \"\"\"\n",
    "    label_tensor = torch.zeros(2, 3, 6)\n",
    "    for label in y_true:\n",
    "        x_local, y_local, grid_pos = global_to_local(label[1:5], H_out, W_out)\n",
    "        print(grid_pos)\n",
    "        label[1] = x_local\n",
    "        label[2] = y_local\n",
    "        label[3] *= W_out\n",
    "        label[4] *= H_out\n",
    "        label_tensor[grid_pos[1], grid_pos[0]] = label\n",
    "    return label_tensor"
   ]
  },
  {
   "cell_type": "code",
   "execution_count": null,
   "metadata": {},
   "outputs": [],
   "source": []
  },
  {
   "cell_type": "code",
   "execution_count": null,
   "metadata": {},
   "outputs": [],
   "source": [
    "train_labels = torch.load('data/list_y_true_train.pt')\n",
    "val_labels = torch.load('data/list_y_true_val.pt')\n",
    "test_labels = torch.load('data/list_y_true_test.pt')\n",
    "\n",
    "det_train = torch.load('data/detection_train.pt')\n",
    "det_val = torch.load('data/detection_val.pt')\n",
    "det_test = torch.load('data/detection_test.pt')\n",
    "\n",
    "def global_to_local(labels_list:list, grid_dimension:tuple):\n",
    "    '''\n",
    "    Transfers one list of tensors to local values\n",
    "    '''\n",
    "\n",
    "    x = grid_dimension[1]\n",
    "    y = grid_dimension[0]\n",
    "    vector_length = grid_dimension[2]\n",
    "\n",
    "    returned_tensor = torch.zeros(y,x,vector_length)\n",
    "\n",
    "    x_grid_cells = [(i+1)/x for i in range(x)]\n",
    "    y_grid_cells = [(i+1)/y for i in range(y)]\n",
    "\n",
    "    for label in labels_list:\n",
    "\n",
    "        for i in range(x):\n",
    "\n",
    "            if label[1] < x_grid_cells[i]:\n",
    "                x_cell = i\n",
    "                if i != 0:\n",
    "                    label[1] -= x_grid_cells[i-1]\n",
    "                break\n",
    "\n",
    "        for i in range(y):\n",
    "\n",
    "            if label[2] < y_grid_cells[i]:\n",
    "                y_cell = i\n",
    "                if i != 0:\n",
    "                    label[2] -= y_grid_cells[i-1]\n",
    "                break\n",
    "\n",
    "        label[1] *= x\n",
    "        label[3] *= x\n",
    "        label[2] *= y\n",
    "        label[4] *= y\n",
    "\n",
    "        returned_tensor[y_cell][x_cell] = label\n",
    "\n",
    "    return returned_tensor\n",
    "\n",
    "def prepare_labels(label_dataset:list, grid_dimension:tuple):\n",
    "    '''\n",
    "    Iterates through each listed tensor, transforms from global to local coordinates, and stacks them into a new tensor.\n",
    "    '''\n",
    "\n",
    "    new_tensor = torch.stack([global_to_local(label, grid_dimension) for label in label_dataset])\n",
    "\n",
    "    return new_tensor\n",
    "\n",
    "def merge_datasets(d1, d2):\n",
    "    '''\n",
    "    Combines the new labels with the image data.\n",
    "    '''\n",
    "    from torch.utils.data import TensorDataset\n",
    "\n",
    "    return TensorDataset(d2[:][0],d1[:])\n",
    "\n",
    "new_dataset = prepare_labels(train_labels, (2,3,6))\n",
    "\n",
    "new = merge_datasets(new_dataset, det_train)\n",
    "print(new[0])\n",
    "print(det_train[0])"
   ]
  },
  {
   "cell_type": "code",
   "execution_count": null,
   "metadata": {},
   "outputs": [],
   "source": [
    "def local_to_global(labels_tensor:torch.Tensor, grid_dimension:tuple):\n",
    "    '''\n",
    "    Returns to original format.\n",
    "    '''\n",
    "    all_labels = []\n",
    "\n",
    "    for i in range(len(labels_tensor)):\n",
    "        image_labels = []\n",
    "\n",
    "        for j in range(len(labels_tensor[0])):\n",
    "            y_labels = []\n",
    "\n",
    "            for k in range(len(labels_tensor[0][0])):\n",
    "                print(labels_tensor[i,j,k])\n",
    "\n",
    "                \n",
    "        \n",
    "    # list_of_tensors = []\n",
    "\n",
    "    # for i in range(len(labels_tensor)):\n",
    "    #     inner =[]\n",
    "    #     x = labels_tensor[i,:,:]\n",
    "    #     not_all_zero = x.any(dim=-1)\n",
    "    #     for each in x[not_all_zero]:\n",
    "    #         inner.append(each)\n",
    "    #     if inner != []:\n",
    "    #         list_of_tensors.append(inner)\n",
    "\n",
    "    # return list_of_tensors\n",
    "        \n",
    "new = local_to_global(new_dataset,(2,3,6))\n"
   ]
  },
  {
   "cell_type": "code",
   "execution_count": null,
   "metadata": {},
   "outputs": [],
   "source": [
    "prepare_labels(label, 2, 3)"
   ]
  },
  {
   "cell_type": "markdown",
   "metadata": {},
   "source": [
    "#### Defining the loss function"
   ]
  },
  {
   "cell_type": "code",
   "execution_count": null,
   "metadata": {},
   "outputs": [],
   "source": [
    "class DetectionLoss(nn.Module):\n",
    "    \"\"\"Custom loss function\"\"\"\n",
    "    def __init__(self):\n",
    "        super().__init__()\n",
    "        self.L_a = nn.BCEWithLogitsLoss()  # detection loss\n",
    "        self.L_b = nn.MSELoss()  # localization loss\n",
    "        self.L_c = nn.CrossEntropyLoss()  # classification loss\n",
    "\n",
    "    def forward(self, y_pred, y_true):\n",
    "\n",
    "        det_pred = y_pred[:, 0]\n",
    "        bbox_pred = y_pred[:, 1:5]\n",
    "        class_pred = y_pred[:, 5:]\n",
    "\n",
    "        det_true = y_true[:, 0]\n",
    "        bbox_true = y_true[:, 1:5]\n",
    "        class_true = y_true[:, -1].long()\n",
    "\n",
    "        L_a = self.L_a(det_pred, det_true)\n",
    "\n",
    "        object_detected = det_true == 1\n",
    "\n",
    "        L_b = self.L_b(bbox_pred[object_detected], bbox_true[object_detected])\n",
    "        L_c = self.L_c(class_pred[object_detected], class_true[object_detected])\n",
    "\n",
    "        return L_a + L_b + L_c"
   ]
  }
 ],
 "metadata": {
  "kernelspec": {
   "display_name": "INF265",
   "language": "python",
   "name": "python3"
  },
  "language_info": {
   "codemirror_mode": {
    "name": "ipython",
    "version": 3
   },
   "file_extension": ".py",
   "mimetype": "text/x-python",
   "name": "python",
   "nbconvert_exporter": "python",
   "pygments_lexer": "ipython3",
   "version": "3.10.13"
  }
 },
 "nbformat": 4,
 "nbformat_minor": 2
}
