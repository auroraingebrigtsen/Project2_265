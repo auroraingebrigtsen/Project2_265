{
 "cells": [
  {
   "cell_type": "code",
   "execution_count": null,
   "metadata": {},
   "outputs": [],
   "source": [
    "import torch\n",
    "import torch.nn as nn\n",
    "from torchvision import transforms\n",
    "import torch.optim as optim\n",
    "import matplotlib.pyplot as plt\n",
    "from torchvision.utils import draw_bounding_boxes\n",
    "from torchvision.ops import box_convert\n",
    "from torch.utils.data import TensorDataset\n",
    "\n",
    "\n",
    "from project_functions import *\n",
    "from project_objects import *\n",
    "from project_models import *\n",
    "from project_constants import DEVICE as device\n",
    "from project_constants import SEED"
   ]
  },
  {
   "cell_type": "code",
   "execution_count": null,
   "metadata": {},
   "outputs": [],
   "source": [
    "torch.manual_seed(SEED)\n",
    "torch.set_default_dtype(torch.double)"
   ]
  },
  {
   "cell_type": "markdown",
   "metadata": {},
   "source": [
    "## 2 Object Localization\n",
    "#### First we load and inspect the localization datasets"
   ]
  },
  {
   "cell_type": "code",
   "execution_count": null,
   "metadata": {},
   "outputs": [],
   "source": [
    "loc_train = torch.load('data/localization_train.pt')\n",
    "loc_val = torch.load('data/localization_val.pt')\n",
    "loc_test = torch.load('data/localization_test.pt')"
   ]
  },
  {
   "cell_type": "code",
   "execution_count": null,
   "metadata": {},
   "outputs": [],
   "source": [
    "print(f'Train data size: {len(loc_train)}')\n",
    "print(f'Val data size: {len(loc_val)}')\n",
    "print(f'Test data size: {len(loc_test)}')"
   ]
  },
  {
   "cell_type": "code",
   "execution_count": null,
   "metadata": {},
   "outputs": [],
   "source": [
    "first_img, first_label = loc_train[0]\n",
    "\n",
    "print(f'Shape of first image: {first_img.shape}')\n",
    "print(f'Type of first image: {type(first_img)}')\n",
    "\n",
    "print(f'\\nShape of first label: {first_label.shape}')\n",
    "print(f'Type of first label: {type(first_label)})')\n",
    "first_label"
   ]
  },
  {
   "cell_type": "code",
   "execution_count": null,
   "metadata": {},
   "outputs": [],
   "source": [
    "# Assuming train_data, val_data, and test_data are defined elsewhere\n",
    "count_instances(loc_train, 'Training Data')\n",
    "count_instances(loc_val, 'Validation Data')\n",
    "count_instances(loc_test, 'Test Data')\n"
   ]
  },
  {
   "cell_type": "markdown",
   "metadata": {},
   "source": [
    "#### Plotting one image from each class"
   ]
  },
  {
   "cell_type": "code",
   "execution_count": null,
   "metadata": {},
   "outputs": [],
   "source": [
    "plot_images(loc_train)"
   ]
  },
  {
   "cell_type": "code",
   "execution_count": null,
   "metadata": {},
   "outputs": [],
   "source": [
    "plot_class(loc_train, 4, 0)"
   ]
  },
  {
   "cell_type": "markdown",
   "metadata": {},
   "source": [
    "#### Defining a normalizer and a preprocessor"
   ]
  },
  {
   "cell_type": "code",
   "execution_count": null,
   "metadata": {},
   "outputs": [],
   "source": [
    "imgs = torch.stack([img for img, _ in loc_train])\n",
    "\n",
    "# Define normalizer\n",
    "normalizer_pipe = transforms.Normalize(\n",
    "    imgs.mean(dim=(0, 2, 3)), \n",
    "    imgs.std(dim=(0, 2, 3))\n",
    "    )\n",
    "\n",
    "# Define preprocessor including the normalizer\n",
    "preprocessor = transforms.Compose([\n",
    "            normalizer_pipe\n",
    "        ])"
   ]
  },
  {
   "cell_type": "code",
   "execution_count": null,
   "metadata": {},
   "outputs": [],
   "source": [
    "loc_train_norm = [(preprocessor(img), label) for img, label in loc_train]\n",
    "loc_val_norm = [(preprocessor(img), label) for img, label in loc_val]\n",
    "loc_test_norm = [(preprocessor(img), label) for img, label in loc_test]"
   ]
  },
  {
   "cell_type": "code",
   "execution_count": null,
   "metadata": {},
   "outputs": [],
   "source": [
    "train_loader = torch.utils.data.DataLoader(loc_train_norm, batch_size=64, shuffle=False)\n",
    "val_loader = torch.utils.data.DataLoader(loc_val_norm, batch_size=64, shuffle=False)\n",
    "\n",
    "loss_fn = LocalizationLoss()"
   ]
  },
  {
   "cell_type": "markdown",
   "metadata": {},
   "source": [
    "#### Defining models"
   ]
  },
  {
   "cell_type": "code",
   "execution_count": null,
   "metadata": {},
   "outputs": [],
   "source": [
    "model_name = 'blejh'\n",
    "\n",
    "torch.manual_seed(SEED)\n",
    "model = MyCNN1((48,60,1))\n",
    "model.to(device=device)\n",
    "optimizer = optim.SGD(model.parameters(), lr=0.01, momentum=0.9, weight_decay=0.001)\n",
    "\n",
    "loss_train, loss_val, train_perform, val_perform, losses_separated = train(\n",
    "    n_epochs=1,\n",
    "    optimizer=optimizer,\n",
    "    model=model,\n",
    "    loss_fn=loss_fn,\n",
    "    train_loader=train_loader,\n",
    "    val_loader=val_loader\n",
    "    performance=compute_performance()\n",
    ")\n",
    "\n",
    "plot_loss(loss_train, loss_val, model_name, save_model=True)\n",
    "plot_lists(losses_separated, ['detection loss', 'localization loss', 'classification loss'], model_name, save_model=False)\n",
    "y_true, y_pred = predict(model, val_loader)\n",
    "plot_predictions(loc_val, y_true, y_pred, label=4, start_idx=0, fig_name=model_name, save_model=False)"
   ]
  },
  {
   "cell_type": "markdown",
   "metadata": {},
   "source": [
    "#### Selecting the best model"
   ]
  },
  {
   "cell_type": "code",
   "execution_count": null,
   "metadata": {},
   "outputs": [],
   "source": [
    "best_model, best_performance = model_selector([model], [val_perform])\n",
    "\n",
    "# Print additional details of the best model\n",
    "print(\"Best Model Details\\n--------------------------------------------------------------\")\n",
    "print(f\"Network architecture/ layout: {best_model}\\n\")\n",
    "#print(f\"Optimizer Parameters: {best_data.optimizer\")\n",
    "print(f\"Validation Performance: {best_performance}\")\n",
    "#print(f\"Validation Accuracy {round(best_data['model_man_val_accuracy'], 2)}\")"
   ]
  },
  {
   "cell_type": "markdown",
   "metadata": {},
   "source": [
    "#### Evaluating the best model on unseen data TBD"
   ]
  },
  {
   "cell_type": "code",
   "execution_count": null,
   "metadata": {},
   "outputs": [],
   "source": [
    "test_loader = torch.utils.data.DataLoader(loc_test_norm, batch_size=64, shuffle=False)\n",
    "\n",
    "test_acc, test_iou, test_performance = compute_performance(best_model, test_loader)\n",
    "print(10*'-'+'Test Performance' + 10*'-')\n",
    "print(f\"Test Accuracy: {test_acc}\\nTest IOU: {test_iou}\\nOverall Performance: {test_performance}\")"
   ]
  },
  {
   "cell_type": "code",
   "execution_count": null,
   "metadata": {},
   "outputs": [],
   "source": [
    "y_true, y_pred = predict(best_model, test_loader)"
   ]
  },
  {
   "cell_type": "code",
   "execution_count": null,
   "metadata": {},
   "outputs": [],
   "source": [
    "plot_predictions(loc_test, y_true, y_pred, label=6, start_idx=0)"
   ]
  },
  {
   "cell_type": "markdown",
   "metadata": {},
   "source": [
    "# 3 Object Detection"
   ]
  },
  {
   "cell_type": "markdown",
   "metadata": {},
   "source": [
    "#### Loading the data and inspecting the data"
   ]
  },
  {
   "cell_type": "code",
   "execution_count": null,
   "metadata": {},
   "outputs": [],
   "source": [
    "import torch\n",
    "import torch.nn as nn\n",
    "from torchvision import transforms\n",
    "import torch.optim as optim\n",
    "import matplotlib.pyplot as plt\n",
    "from torchvision.utils import draw_bounding_boxes\n",
    "from torchvision.ops import box_convert\n",
    "from torch.utils.data import TensorDataset\n",
    "\n",
    "\n",
    "from project_functions import *\n",
    "from project_objects import *\n",
    "from project_models import *\n",
    "from project_constants import DEVICE as device\n",
    "from project_constants import SEED\n",
    "\n",
    "torch.set_default_dtype(torch.double)"
   ]
  },
  {
   "cell_type": "code",
   "execution_count": null,
   "metadata": {},
   "outputs": [],
   "source": [
    "train_labels = torch.load('data/list_y_true_train.pt')\n",
    "val_labels = torch.load('data/list_y_true_val.pt')\n",
    "test_labels = torch.load('data/list_y_true_test.pt')"
   ]
  },
  {
   "cell_type": "code",
   "execution_count": null,
   "metadata": {},
   "outputs": [],
   "source": [
    "print(f'Train label size: {len(train_labels)}')\n",
    "print(f'Val label size: {len(val_labels)}')\n",
    "print(f'Test label size: {len(test_labels)}')"
   ]
  },
  {
   "cell_type": "code",
   "execution_count": null,
   "metadata": {},
   "outputs": [],
   "source": [
    "train_imgs = torch.load('data/detection_train.pt')\n",
    "val_imgs = torch.load('data/detection_val.pt')\n",
    "test_imgs = torch.load('data/detection_test.pt')"
   ]
  },
  {
   "cell_type": "code",
   "execution_count": null,
   "metadata": {},
   "outputs": [],
   "source": [
    "train_labels_local = prepare_labels(train_labels, (2,3,6))\n",
    "val_labels_local = prepare_labels(val_labels, (2,3,6))\n",
    "test_labels_local = prepare_labels(test_labels, (2,3,6))"
   ]
  },
  {
   "cell_type": "code",
   "execution_count": null,
   "metadata": {},
   "outputs": [],
   "source": [
    "input_tensor = prepare_labels(train_labels, (2,3,6))"
   ]
  },
  {
   "cell_type": "code",
   "execution_count": null,
   "metadata": {},
   "outputs": [],
   "source": [
    "def local_to_global_list(input_tensor):\n",
    "\n",
    "    returned_list = []\n",
    "\n",
    "    h_size = input_tensor.shape[1]\n",
    "    w_size = input_tensor.shape[2]\n",
    "\n",
    "    for h in range(h_size):\n",
    "\n",
    "\n",
    "        for w in range(w_size):\n",
    "\n",
    "            input_tensor[:,h,w,1] /=3\n",
    "            input_tensor[:,h,w,2] /=2\n",
    "\n",
    "            input_tensor[:,h,w,1] += (w*1)/w_size\n",
    "            input_tensor[:,h,w,2] += (h*1)/h_size\n",
    "\n",
    "            input_tensor[:,h,w,3] *=3\n",
    "            input_tensor[:,h,w,4] *=2\n",
    "\n",
    "    new_tensor = input_tensor.view(-1, input_tensor.size(-1), input_tensor.size(-1))\n",
    "    mask = new_tensor[:, :, 0] != 0\n",
    "    filtered_tensors = [new_tensor[i][mask[i]] for i in range(new_tensor.size(0))]\n",
    "\n",
    "    for each in filtered_tensors:\n",
    "        inner = []\n",
    "        for i in each:\n",
    "            inner.append(i)\n",
    "        returned_list.append(inner)\n",
    "\n",
    "    return returned_list\n",
    "\n"
   ]
  },
  {
   "cell_type": "code",
   "execution_count": null,
   "metadata": {},
   "outputs": [],
   "source": [
    "yeh[0].view(2, yeh[0].size(-1))"
   ]
  },
  {
   "cell_type": "code",
   "execution_count": null,
   "metadata": {},
   "outputs": [],
   "source": [
    "\n",
    "new_tensor = input_tensor.view(-1, input_tensor.size(-1), input_tensor.size(-1))\n",
    "new_tensor[0][0]"
   ]
  },
  {
   "cell_type": "code",
   "execution_count": null,
   "metadata": {},
   "outputs": [],
   "source": [
    "det_train_manual = merge_datasets(det_train, input_tensor)\n",
    "det_train_manual"
   ]
  },
  {
   "cell_type": "markdown",
   "metadata": {},
   "source": [
    "#### Plotting some images from the detection dataset"
   ]
  },
  {
   "cell_type": "code",
   "execution_count": null,
   "metadata": {},
   "outputs": [],
   "source": [
    "imgs = [img for img,_ in det_train]\n",
    "plot_detection_data(imgs, train_labels, start_idx=10)"
   ]
  },
  {
   "cell_type": "markdown",
   "metadata": {},
   "source": [
    "#### Normalizing the dataset TBD"
   ]
  },
  {
   "cell_type": "markdown",
   "metadata": {},
   "source": [
    "#### Defining the loss function"
   ]
  },
  {
   "cell_type": "code",
   "execution_count": null,
   "metadata": {},
   "outputs": [],
   "source": [
    "class DetectionLoss(nn.Module):\n",
    "    \"\"\"Custom loss function\"\"\"\n",
    "    def __init__(self):\n",
    "        super().__init__()\n",
    "        self.Localization_loss = LocalizationLoss()\n",
    "\n",
    "    def forward(self, y_pred, y_true):\n",
    "        #print(y_pred.shape)\n",
    "        #print(y_true.shape)\n",
    "        if y_true.shape != y_pred.shape:\n",
    "            print(y_true.shape)\n",
    "        #y_pred_transformed = y_pred.view(-1, y_pred.size(-1))\n",
    "        #y_true_transformed = y_true.view(-1, y_true.size(-1))\n",
    "        y_pred_reshaped = y_pred.permute(0,2,3,1)\n",
    "        y_pred_reshaped = y_pred_reshaped.reshape(-1, y_pred_reshaped.size(-1))\n",
    "\n",
    "        y_true_reshaped = y_true.permute(0,2,3,1)\n",
    "        y_true_reshaped = y_true_reshaped.reshape(-1, y_true_reshaped.size(-1))\n",
    "        # print(y_pred_transformed.shape)\n",
    "        # print(y_pred_transformed)\n",
    "        # print(y_true_transformed.shape)\n",
    "        # print(y_true_transformed)\n",
    "\n",
    "        loss, loss_tuples = self.Localization_loss(y_pred_reshaped, y_true_reshaped)\n",
    "\n",
    "        #print(loss.item())\n",
    "        \n",
    "        return loss, loss_tuples"
   ]
  },
  {
   "cell_type": "code",
   "execution_count": null,
   "metadata": {},
   "outputs": [],
   "source": [
    "train_loader = torch.utils.data.DataLoader(det_train, batch_size=64, shuffle=False)\n",
    "val_loader = torch.utils.data.DataLoader(det_val, batch_size=64, shuffle=False)\n",
    "\n",
    "loss_fn2 = DetectionLoss()"
   ]
  },
  {
   "cell_type": "code",
   "execution_count": null,
   "metadata": {},
   "outputs": [],
   "source": [
    "class TestCNN(nn.Module):\n",
    "    def __init__(self, input_size=None):\n",
    "        self.input_size = input_size\n",
    "        \n",
    "        super().__init__()\n",
    "        self.conv1 = nn.Conv2d(in_channels=1, out_channels=16, kernel_size=3, stride=1, padding=1, device=device, dtype=torch.double)\n",
    "        self.pool1 = nn.MaxPool2d(kernel_size=2)\n",
    "        self.conv2 = nn.Conv2d(in_channels=16, out_channels=32, kernel_size=3, stride=1, padding=1, device=device, dtype=torch.double)\n",
    "        self.pool2 = nn.MaxPool2d(kernel_size=2)\n",
    "        self.conv3 = nn.Conv2d(in_channels=32, out_channels=64, kernel_size=(3,2), stride=1, padding=1, device=device, dtype=torch.double)\n",
    "        self.pool3 = nn.MaxPool2d(kernel_size=2)\n",
    "        self.conv4 = nn.Conv2d(in_channels=64, out_channels=128, kernel_size=5, stride=1, padding=1, device=device, dtype=torch.double)\n",
    "        self.pool4 = nn.MaxPool2d(kernel_size=2)\n",
    "        self.conv5 = nn.Conv2d(in_channels=128, out_channels=64, kernel_size=3, stride=1, padding=1, device=device, dtype=torch.double)\n",
    "        self.conv6 = nn.Conv2d(in_channels=64, out_channels=32, kernel_size=3, stride=1, padding=1, device=device, dtype=torch.double)\n",
    "        self.conv7 = nn.Conv2d(in_channels=32, out_channels=6, kernel_size=3, stride=1, padding=1, device=device, dtype=torch.double)\n",
    "\n",
    "\n",
    "    def forward(self, x):\n",
    "        out = F.relu(self.conv1(x))\n",
    "        out = self.pool1(out)\n",
    "        out = F.relu(self.conv2(out))\n",
    "        out = self.pool2(out)\n",
    "        out = F.relu(self.conv3(out))\n",
    "        out = self.pool3(out)\n",
    "        out = F.relu(self.conv4(out))\n",
    "        out = self.pool4(out)\n",
    "        out = F.relu(self.conv5(out))\n",
    "        out = F.relu(self.conv6(out))\n",
    "        out = self.conv7(out)\n",
    "\n",
    "        return out"
   ]
  },
  {
   "cell_type": "code",
   "execution_count": null,
   "metadata": {},
   "outputs": [],
   "source": [
    "model_name = 'test'\n",
    "torch.manual_seed(SEED)\n",
    "model = TestCNN()\n",
    "model.to(device=device)\n",
    "optimizer = optim.SGD(model.parameters(), lr=0.01, momentum=0.9, weight_decay=0.001)\n",
    "\n",
    "loss_train, loss_val, train_perform, val_perform, losses_separated = train(\n",
    "    n_epochs=2,\n",
    "    optimizer=optimizer,\n",
    "    model=model,\n",
    "    loss_fn=loss_fn2,\n",
    "    train_loader=train_loader,\n",
    "    val_loader=val_loader\n",
    ")\n",
    "\n",
    "plot_loss(loss_train, loss_val, model_name, save_model=False)\n",
    "plot_lists(losses_separated, ['detection loss', 'localization loss', 'classification loss'], model_name, save_model=False)"
   ]
  },
  {
   "cell_type": "code",
   "execution_count": null,
   "metadata": {},
   "outputs": [],
   "source": [
    "y_true, y_pred = predict(model, val_loader)\n",
    "plot_predictions(loc_val, y_true, y_pred, label=4, start_idx=0, fig_name=model_name, save_model=False)"
   ]
  },
  {
   "cell_type": "code",
   "execution_count": null,
   "metadata": {},
   "outputs": [],
   "source": [
    "def calculate_ap(model, loader):\n",
    "    '''\n",
    "    Description\n",
    "    '''\n",
    "    model.eval()\n",
    "    correct = 0\n",
    "    total = 0\n",
    "    iou_sum = 0\n",
    "\n",
    "    with torch.inference_mode():\n",
    "        for imgs, labels in loader:\n",
    "            imgs = imgs.to(device=device, dtype=torch.double)\n",
    "            labels = labels.to(device=device, dtype=torch.double)\n",
    "\n",
    "            outputs = model(imgs)\n",
    "\n",
    "            det_pred = F.sigmoid(outputs[:, 0])\n",
    "            object_detected = det_pred > 0.5\n",
    "\n",
    "            _, class_pred = torch.max(outputs[:, 5:], dim=1)\n",
    "\n",
    "            det_true = labels[:, 0].int()\n",
    "            class_true = labels[:, -1].int()\n",
    "\n",
    "            total += labels.shape[0]\n",
    "            correct += ((object_detected == 0) & (det_true == 0)).sum()\n",
    "            correct += ((object_detected == 1) & (det_true == 1) & (class_pred == class_true)).sum()\n",
    "\n",
    "            bbox_pred = outputs[:, 1:5]\n",
    "            bbox_true = labels[:, 1:5]\n",
    "\n",
    "            converted_bbox_pred = box_convert(bbox_pred[object_detected], in_fmt='cxcywh', out_fmt='xyxy')\n",
    "            converted_bbox_true = box_convert(bbox_true[object_detected], in_fmt='cxcywh', out_fmt='xyxy')\n",
    "            \n",
    "            bbox_iou = box_iou(converted_bbox_pred,converted_bbox_true)\n",
    "            mean_iou = bbox_iou.diag().sum()\n",
    "            \n",
    "            iou_sum += mean_iou.item()\n",
    "            \n",
    "    acc =  correct / total\n",
    "    iou = iou_sum / total\n",
    "\n",
    "    performance = (acc + iou) / 2\n",
    "    \n",
    "    return None, None, None"
   ]
  }
 ],
 "metadata": {
  "kernelspec": {
   "display_name": "INF265",
   "language": "python",
   "name": "python3"
  },
  "language_info": {
   "codemirror_mode": {
    "name": "ipython",
    "version": 3
   },
   "file_extension": ".py",
   "mimetype": "text/x-python",
   "name": "python",
   "nbconvert_exporter": "python",
   "pygments_lexer": "ipython3",
   "version": "3.10.13"
  }
 },
 "nbformat": 4,
 "nbformat_minor": 2
}
