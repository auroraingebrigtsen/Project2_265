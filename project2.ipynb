{
 "cells": [
  {
   "cell_type": "code",
   "execution_count": null,
   "metadata": {},
   "outputs": [],
   "source": [
    "import torch\n",
    "import torch.nn as nn\n",
    "from torchvision import transforms\n",
    "import torch.optim as optim\n",
    "import matplotlib.pyplot as plt\n",
    "from torchvision.utils import draw_bounding_boxes\n",
    "from torchvision.ops import box_convert\n",
    "from torch.utils.data import TensorDataset\n",
    "\n",
    "\n",
    "from project_functions import *\n",
    "from project_objects import *\n",
    "from project_models import *\n",
    "from project_constants import DEVICE as device\n",
    "from project_constants import SEED"
   ]
  },
  {
   "cell_type": "code",
   "execution_count": null,
   "metadata": {},
   "outputs": [],
   "source": [
    "torch.manual_seed(SEED)\n",
    "torch.set_default_dtype(torch.double)"
   ]
  },
  {
   "cell_type": "markdown",
   "metadata": {},
   "source": [
    "## 2 Object Localization\n",
    "#### First we load and inspect the localization datasets"
   ]
  },
  {
   "cell_type": "code",
   "execution_count": null,
   "metadata": {},
   "outputs": [],
   "source": [
    "loc_train = torch.load('data/localization_train.pt')\n",
    "loc_val = torch.load('data/localization_val.pt')\n",
    "loc_test = torch.load('data/localization_test.pt')"
   ]
  },
  {
   "cell_type": "code",
   "execution_count": null,
   "metadata": {},
   "outputs": [],
   "source": [
    "print(f'Train data size: {len(loc_train)}')\n",
    "print(f'Val data size: {len(loc_val)}')\n",
    "print(f'Test data size: {len(loc_test)}')"
   ]
  },
  {
   "cell_type": "code",
   "execution_count": null,
   "metadata": {},
   "outputs": [],
   "source": [
    "first_img, first_label = loc_train[0]\n",
    "\n",
    "print(f'Shape of first image: {first_img.shape}')\n",
    "print(f'Type of first image: {type(first_img)}')\n",
    "\n",
    "print(f'\\nShape of first label: {first_label.shape}')\n",
    "print(f'Type of first label: {type(first_label)})')\n",
    "first_label"
   ]
  },
  {
   "cell_type": "code",
   "execution_count": null,
   "metadata": {},
   "outputs": [],
   "source": [
    "# Assuming train_data, val_data, and test_data are defined elsewhere\n",
    "count_instances(loc_train, 'Training Data')\n",
    "count_instances(loc_val, 'Validation Data')\n",
    "count_instances(loc_test, 'Test Data')\n"
   ]
  },
  {
   "cell_type": "markdown",
   "metadata": {},
   "source": [
    "#### Plotting one image from each class"
   ]
  },
  {
   "cell_type": "code",
   "execution_count": null,
   "metadata": {},
   "outputs": [],
   "source": [
    "plot_localization_data(loc_train)"
   ]
  },
  {
   "cell_type": "code",
   "execution_count": null,
   "metadata": {},
   "outputs": [],
   "source": [
    "plot_localization_data(loc_train, class_label=3, start_idx=10)"
   ]
  },
  {
   "cell_type": "markdown",
   "metadata": {},
   "source": [
    "#### Defining a normalizer and a preprocessor"
   ]
  },
  {
   "cell_type": "code",
   "execution_count": null,
   "metadata": {},
   "outputs": [],
   "source": [
    "imgs = torch.stack([img for img, _ in loc_train])\n",
    "\n",
    "# Define normalizer\n",
    "normalizer_pipe = transforms.Normalize(\n",
    "    imgs.mean(dim=(0, 2, 3)), \n",
    "    imgs.std(dim=(0, 2, 3))\n",
    "    )\n",
    "\n",
    "# Define preprocessor including the normalizer\n",
    "preprocessor = transforms.Compose([\n",
    "            normalizer_pipe\n",
    "        ])"
   ]
  },
  {
   "cell_type": "code",
   "execution_count": null,
   "metadata": {},
   "outputs": [],
   "source": [
    "loc_train_norm = [(preprocessor(img), label) for img, label in loc_train]\n",
    "loc_val_norm = [(preprocessor(img), label) for img, label in loc_val]\n",
    "loc_test_norm = [(preprocessor(img), label) for img, label in loc_test]"
   ]
  },
  {
   "cell_type": "code",
   "execution_count": null,
   "metadata": {},
   "outputs": [],
   "source": [
    "train_loader = torch.utils.data.DataLoader(loc_train_norm, batch_size=64, shuffle=False)\n",
    "val_loader = torch.utils.data.DataLoader(loc_val_norm, batch_size=64, shuffle=False)\n",
    "\n",
    "loss_fn = LocalizationLoss()"
   ]
  },
  {
   "cell_type": "markdown",
   "metadata": {},
   "source": [
    "#### Defining models"
   ]
  },
  {
   "cell_type": "code",
   "execution_count": null,
   "metadata": {},
   "outputs": [],
   "source": [
    "model_name = 'test'\n",
    "\n",
    "torch.manual_seed(SEED)\n",
    "model = LocCNN1((48,60,1))\n",
    "model.to(device=device)\n",
    "optimizer = optim.SGD(model.parameters(), lr=0.01, momentum=0.9, weight_decay=0.001)\n",
    "\n",
    "loss_train, loss_val, train_perform, val_perform, losses_separated = train(\n",
    "    n_epochs=2,\n",
    "    optimizer=optimizer,\n",
    "    model=model,\n",
    "    loss_fn=loss_fn,\n",
    "    train_loader=train_loader,\n",
    "    val_loader=val_loader,\n",
    "    performance_calculator=localization_performance\n",
    ")\n",
    "\n",
    "plot_loss(loss_train, loss_val, model_name, save_model=True)\n",
    "plot_lists(losses_separated, ['detection loss', 'localization loss', 'classification loss'], model_name, save_model=False)\n",
    "y_true, y_pred = predict(model, val_loader)"
   ]
  },
  {
   "cell_type": "markdown",
   "metadata": {},
   "source": [
    "#### Selecting the best model"
   ]
  },
  {
   "cell_type": "code",
   "execution_count": null,
   "metadata": {},
   "outputs": [],
   "source": [
    "best_model, best_performance = model_selector([model], [val_perform[2]])\n",
    "\n",
    "# Print additional details of the best model\n",
    "print(\"Best Model Details\\n--------------------------------------------------------------\")\n",
    "print(f\"Network architecture/ layout: {best_model}\\n\")\n",
    "#print(f\"Optimizer Parameters: {best_data.optimizer\")\n",
    "print(f\"Validation Performance: {best_performance}\")\n",
    "#print(f\"Validation Accuracy {round(best_data['model_man_val_accuracy'], 2)}\")"
   ]
  },
  {
   "cell_type": "markdown",
   "metadata": {},
   "source": [
    "#### Evaluating the best model on unseen data TBD"
   ]
  },
  {
   "cell_type": "code",
   "execution_count": null,
   "metadata": {},
   "outputs": [],
   "source": [
    "test_loader = torch.utils.data.DataLoader(loc_test_norm, batch_size=64, shuffle=False)\n",
    "\n",
    "test_performance = localization_performance(best_model, test_loader)\n",
    "print(10*'-'+'Test Performance' + 10*'-')\n",
    "print(f\"Test Accuracy: {test_performance[0]}\\nTest IOU: {test_performance[1]}\\nOverall Performance: {test_performance[2]}\")"
   ]
  },
  {
   "cell_type": "code",
   "execution_count": null,
   "metadata": {},
   "outputs": [],
   "source": [
    "y_true, y_pred = predict(best_model, test_loader)"
   ]
  },
  {
   "cell_type": "code",
   "execution_count": null,
   "metadata": {},
   "outputs": [],
   "source": [
    "plot_predictions(loc_test, y_true, y_pred, label=3, start_idx=0)"
   ]
  },
  {
   "cell_type": "markdown",
   "metadata": {},
   "source": [
    "# 3 Object Detection"
   ]
  },
  {
   "cell_type": "markdown",
   "metadata": {},
   "source": [
    "#### Loading the data and inspecting the data"
   ]
  },
  {
   "cell_type": "code",
   "execution_count": null,
   "metadata": {},
   "outputs": [],
   "source": [
    "import torch\n",
    "import torch.nn as nn\n",
    "from torchvision import transforms\n",
    "import torch.optim as optim\n",
    "import matplotlib.pyplot as plt\n",
    "from torchvision.utils import draw_bounding_boxes\n",
    "from torchvision.ops import box_convert\n",
    "from torch.utils.data import TensorDataset\n",
    "\n",
    "\n",
    "from project_functions import *\n",
    "from project_objects import *\n",
    "from project_models import *\n",
    "from project_constants import DEVICE as device\n",
    "from project_constants import SEED\n",
    "\n",
    "torch.set_default_dtype(torch.double)"
   ]
  },
  {
   "cell_type": "code",
   "execution_count": null,
   "metadata": {},
   "outputs": [],
   "source": [
    "train_labels = torch.load('data/list_y_true_train.pt')\n",
    "val_labels = torch.load('data/list_y_true_val.pt')\n",
    "test_labels = torch.load('data/list_y_true_test.pt')"
   ]
  },
  {
   "cell_type": "code",
   "execution_count": null,
   "metadata": {},
   "outputs": [],
   "source": [
    "print(f'Train label size: {len(train_labels)}')\n",
    "print(f'Val label size: {len(val_labels)}')\n",
    "print(f'Test label size: {len(test_labels)}')"
   ]
  },
  {
   "cell_type": "code",
   "execution_count": null,
   "metadata": {},
   "outputs": [],
   "source": [
    "train_imgs = torch.load('data/detection_train.pt')\n",
    "val_imgs = torch.load('data/detection_val.pt')\n",
    "test_imgs = torch.load('data/detection_test.pt')"
   ]
  },
  {
   "cell_type": "code",
   "execution_count": null,
   "metadata": {},
   "outputs": [],
   "source": [
    "train_labels_local = prepare_labels(train_labels, (2,3,6))\n",
    "val_labels_local = prepare_labels(val_labels, (2,3,6))\n",
    "test_labels_local = prepare_labels(test_labels, (2,3,6))"
   ]
  },
  {
   "cell_type": "code",
   "execution_count": null,
   "metadata": {},
   "outputs": [],
   "source": [
    "def local_to_global_list(input_tensor):\n",
    "\n",
    "    returned_list = []\n",
    "\n",
    "    h_size = input_tensor.shape[1]\n",
    "    w_size = input_tensor.shape[2]\n",
    "\n",
    "    for h in range(h_size):\n",
    "\n",
    "\n",
    "        for w in range(w_size):\n",
    "\n",
    "            input_tensor[:,h,w,1] /=3\n",
    "            input_tensor[:,h,w,2] /=2\n",
    "\n",
    "            input_tensor[:,h,w,1] += (w*1)/w_size\n",
    "            input_tensor[:,h,w,2] += (h*1)/h_size\n",
    "\n",
    "            input_tensor[:,h,w,3] *=3\n",
    "            input_tensor[:,h,w,4] *=2\n",
    "\n",
    "    new_tensor = input_tensor.view(-1, input_tensor.size(-1), input_tensor.size(-1))\n",
    "    mask = new_tensor[:, :, 0] != 0\n",
    "    filtered_tensors = [new_tensor[i][mask[i]] for i in range(new_tensor.size(0))]\n",
    "\n",
    "    for each in filtered_tensors:\n",
    "        inner = []\n",
    "        for i in each:\n",
    "            inner.append(i)\n",
    "        returned_list.append(inner)\n",
    "\n",
    "    return returned_list\n",
    "\n"
   ]
  },
  {
   "cell_type": "code",
   "execution_count": null,
   "metadata": {},
   "outputs": [],
   "source": [
    "det_train = merge_datasets(train_imgs, train_labels_local)\n",
    "det_val = merge_datasets(val_imgs, val_labels_local)\n",
    "det_test = merge_datasets(test_imgs, test_labels_local)"
   ]
  },
  {
   "cell_type": "markdown",
   "metadata": {},
   "source": [
    "#### Plotting some images from the detection dataset"
   ]
  },
  {
   "cell_type": "code",
   "execution_count": null,
   "metadata": {},
   "outputs": [],
   "source": [
    "imgs = [img for img,_ in train_imgs]\n",
    "plot_detection_data(imgs, train_labels, start_idx=10)"
   ]
  },
  {
   "cell_type": "markdown",
   "metadata": {},
   "source": [
    "#### Normalizing the dataset TBD"
   ]
  },
  {
   "cell_type": "code",
   "execution_count": null,
   "metadata": {},
   "outputs": [],
   "source": [
    "train_loader = torch.utils.data.DataLoader(det_train, batch_size=64, shuffle=False)\n",
    "val_loader = torch.utils.data.DataLoader(det_val, batch_size=64, shuffle=False)\n",
    "\n",
    "loss_fn = DetectionLoss()"
   ]
  },
  {
   "cell_type": "markdown",
   "metadata": {},
   "source": [
    "#### Defining models"
   ]
  },
  {
   "cell_type": "code",
   "execution_count": null,
   "metadata": {},
   "outputs": [],
   "source": [
    "def calculate_iou(outputs, labels):\n",
    "    \"\"\"\n",
    "    Calculate IoU between ground truth and predicted boxes.\n",
    "    \"\"\"\n",
    "\n",
    "    bbox_pred = outputs[:, 1:5]\n",
    "    bbox_true = labels[:, 1:5]\n",
    "    #print(bbox_pred.shape)\n",
    "\n",
    "    converted_bbox_pred = box_convert(bbox_pred, in_fmt='cxcywh', out_fmt='xyxy')\n",
    "    converted_bbox_true = box_convert(bbox_true, in_fmt='cxcywh', out_fmt='xyxy')\n",
    "    #print(converted_bbox_pred.shape)\n",
    "\n",
    "    bbox_iou = box_iou(converted_bbox_pred,converted_bbox_true)\n",
    "    #print(bbox_iou.shape)\n",
    "    \n",
    "    iou = bbox_iou.diag()\n",
    "    #print(iou.shape)\n",
    "    \n",
    "    return iou"
   ]
  },
  {
   "cell_type": "code",
   "execution_count": null,
   "metadata": {},
   "outputs": [],
   "source": [
    "def calculate_ap(outputs, labels):\n",
    "    \"\"\"\n",
    "\n",
    "    \"\"\"\n",
    "    #test = outputs_reshaped.reshape(64, 2, 3, 6)\n",
    "    treshold = 0.5\n",
    "    outputs_reshaped = outputs.reshape(-1, outputs.size(-1))\n",
    "    labels_reshaped = labels.reshape(-1, labels.size(-1))\n",
    "\n",
    "\n",
    "    confidence = F.sigmoid(outputs_reshaped[:, 0])\n",
    "    iou = calculate_iou(outputs_reshaped, labels_reshaped)\n",
    "    tp = torch.where(iou >= treshold, 1, 0)\n",
    "    fp = torch.where(iou < treshold, 1, 0)\n",
    "\n",
    "    _, indices = torch.sort(confidence, dim = 0, descending=True) \n",
    "    ground_truths = (labels_reshaped[:,0] == 1).sum().item()\n",
    "\n",
    "    tensor_length = len(indices)\n",
    "\n",
    "    recall = torch.zeros(tensor_length)\n",
    "    precision = torch.zeros(tensor_length)\n",
    "    acc_tp = torch.zeros(tensor_length)\n",
    "    acc_fp = torch.zeros(tensor_length)\n",
    "\n",
    "    counter = 0\n",
    "\n",
    "    for i in indices:\n",
    "        if counter == 0:\n",
    "            acc_tp[counter] = tp[i]\n",
    "            acc_fp[counter] = fp[i]\n",
    "\n",
    "        else:\n",
    "            acc_tp[counter] = tp[i]+acc_tp[counter-1]\n",
    "            acc_fp[counter] = fp[i]+acc_fp[counter-1]\n",
    "\n",
    "        precision[counter] = acc_tp[counter]/(acc_tp[counter]+acc_fp[counter])\n",
    "\n",
    "        recall[counter] = acc_tp[counter]/ground_truths\n",
    "\n",
    "        counter += 1\n",
    "        \n",
    "    interpolated = 0\n",
    "    \n",
    "\n",
    "    r = torch.arange(0, 1.1, 0.1)\n",
    "    # mask = recall <= 0.1\n",
    "    # print(torch.argmax(precision[mask]))\n",
    "\n",
    "    for each in r:\n",
    "        mask = recall <= each\n",
    "        print(torch.argmax(precision[mask]))\n",
    "\n",
    "    return interpolated/11\n",
    "        "
   ]
  },
  {
   "cell_type": "code",
   "execution_count": null,
   "metadata": {},
   "outputs": [],
   "source": [
    "detection_performance(model, val_loader)"
   ]
  },
  {
   "cell_type": "code",
   "execution_count": null,
   "metadata": {},
   "outputs": [],
   "source": [
    "def detection_performance(model, loader):\n",
    "    '''\n",
    "    Description\n",
    "    '''\n",
    "    model.eval()\n",
    "    ap_sum = 0\n",
    "    total = 0\n",
    "    with torch.inference_mode():\n",
    "        for imgs, labels in loader:\n",
    "            imgs = imgs.to(device=device, dtype=torch.double)\n",
    "            labels = labels.to(device=device, dtype=torch.double)\n",
    "\n",
    "            outputs = model(imgs)\n",
    "\n",
    "            ap_sum += calculate_ap(outputs.permute(0,2,3,1), labels.permute(0,2,3,1))\n",
    "            total += 1\n",
    "\n",
    "    return ap_sum/total\n"
   ]
  },
  {
   "cell_type": "code",
   "execution_count": null,
   "metadata": {},
   "outputs": [],
   "source": [
    "model_name = 'test'\n",
    "torch.manual_seed(SEED)\n",
    "model = DetCNN1()\n",
    "model.to(device=device)\n",
    "optimizer = optim.SGD(model.parameters(), lr=0.01, momentum=0.9, weight_decay=0.001)\n",
    "\n",
    "losses_train, losses_val, train_performance, val_performance, losses_separated= train(\n",
    "    n_epochs=2,\n",
    "    optimizer=optimizer,\n",
    "    model=model,\n",
    "    loss_fn=loss_fn,\n",
    "    train_loader=train_loader,\n",
    "    val_loader=val_loader,\n",
    "    performance_calculator=detection_performance\n",
    ")\n",
    "\n",
    "plot_loss(loss_train, loss_val, model_name, save_model=False)\n",
    "plot_lists(losses_separated, ['detection loss', 'localization loss', 'classification loss'], model_name, save_model=False)"
   ]
  },
  {
   "cell_type": "code",
   "execution_count": null,
   "metadata": {},
   "outputs": [],
   "source": [
    "y_true, y_pred = predict(model, val_loader)\n",
    "# imgs = [img for img,_ in val_imgs]\n",
    "# y_pred_global = local_to_global(y_pred)\n",
    "# plot_detection_data(imgs, val_labels, y_pred, start_idx=10)"
   ]
  },
  {
   "cell_type": "code",
   "execution_count": null,
   "metadata": {},
   "outputs": [],
   "source": [
    "y_true"
   ]
  }
 ],
 "metadata": {
  "kernelspec": {
   "display_name": "INF265",
   "language": "python",
   "name": "python3"
  },
  "language_info": {
   "codemirror_mode": {
    "name": "ipython",
    "version": 3
   },
   "file_extension": ".py",
   "mimetype": "text/x-python",
   "name": "python",
   "nbconvert_exporter": "python",
   "pygments_lexer": "ipython3",
   "version": "3.10.13"
  }
 },
 "nbformat": 4,
 "nbformat_minor": 2
}
